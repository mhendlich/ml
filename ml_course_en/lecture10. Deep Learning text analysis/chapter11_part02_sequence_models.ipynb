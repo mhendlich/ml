{
  "nbformat": 4,
  "nbformat_minor": 0,
  "metadata": {
    "colab": {
      "name": "chapter11_part02_sequence-models",
      "provenance": [],
      "collapsed_sections": [],
      "toc_visible": true
    },
    "kernelspec": {
      "display_name": "Python 3",
      "language": "python",
      "name": "python3"
    },
    "language_info": {
      "codemirror_mode": {
        "name": "ipython",
        "version": 3
      },
      "file_extension": ".py",
      "mimetype": "text/x-python",
      "name": "python",
      "nbconvert_exporter": "python",
      "pygments_lexer": "ipython3",
      "version": "3.7.0"
    },
    "accelerator": "GPU"
  },
  "cells": [
    {
      "cell_type": "markdown",
      "metadata": {
        "id": "nCgoKrBjqjtB"
      },
      "source": [
        "**Downloading the data**"
      ]
    },
    {
      "cell_type": "code",
      "metadata": {
        "id": "jYuIWZ2rqjtC",
        "colab": {
          "base_uri": "https://localhost:8080/"
        },
        "outputId": "9ced8bb3-bdf2-4b72-9d7c-0772d57f0dfe"
      },
      "source": [
        "!curl -O https://ai.stanford.edu/~amaas/data/sentiment/aclImdb_v1.tar.gz\n",
        "!tar -xf aclImdb_v1.tar.gz\n",
        "!rm -r aclImdb/train/unsup"
      ],
      "execution_count": 5,
      "outputs": [
        {
          "output_type": "stream",
          "name": "stdout",
          "text": [
            "  % Total    % Received % Xferd  Average Speed   Time    Time     Time  Current\n",
            "                                 Dload  Upload   Total   Spent    Left  Speed\n",
            "100 80.2M  100 80.2M    0     0  34.8M      0  0:00:02  0:00:02 --:--:-- 34.8M\n"
          ]
        }
      ]
    },
    {
      "cell_type": "markdown",
      "metadata": {
        "id": "BZqcd5kDqjtD"
      },
      "source": [
        "**Preparing the data**"
      ]
    },
    {
      "cell_type": "code",
      "metadata": {
        "id": "r5j-3kGvqjtD",
        "colab": {
          "base_uri": "https://localhost:8080/"
        },
        "outputId": "39c8d1a9-3ace-46dc-83fb-e98338d08b57"
      },
      "source": [
        "import os, pathlib, shutil, random\n",
        "from tensorflow import keras\n",
        "batch_size = 32\n",
        "base_dir = pathlib.Path(\"aclImdb\")\n",
        "val_dir = base_dir / \"val\"\n",
        "train_dir = base_dir / \"train\"\n",
        "for category in (\"neg\", \"pos\"):\n",
        "    os.makedirs(val_dir / category)\n",
        "    files = os.listdir(train_dir / category)\n",
        "    random.Random(1337).shuffle(files)\n",
        "    num_val_samples = int(0.2 * len(files))\n",
        "    val_files = files[-num_val_samples:]\n",
        "    for fname in val_files:\n",
        "        shutil.move(train_dir / category / fname,\n",
        "                    val_dir / category / fname)\n",
        "\n",
        "train_ds = keras.utils.text_dataset_from_directory(\n",
        "    \"aclImdb/train\", batch_size=batch_size\n",
        ")\n",
        "val_ds = keras.utils.text_dataset_from_directory(\n",
        "    \"aclImdb/val\", batch_size=batch_size\n",
        ")\n",
        "test_ds = keras.utils.text_dataset_from_directory(\n",
        "    \"aclImdb/test\", batch_size=batch_size\n",
        ")\n",
        "text_only_train_ds = train_ds.map(lambda x, y: x)"
      ],
      "execution_count": 6,
      "outputs": [
        {
          "output_type": "stream",
          "name": "stdout",
          "text": [
            "Found 20000 files belonging to 2 classes.\n",
            "Found 5000 files belonging to 2 classes.\n",
            "Found 25000 files belonging to 2 classes.\n"
          ]
        }
      ]
    },
    {
      "cell_type": "markdown",
      "metadata": {
        "id": "GS__FUQrqjtE"
      },
      "source": [
        "**Preparing integer sequence datasets**"
      ]
    },
    {
      "cell_type": "code",
      "metadata": {
        "id": "1cAfcAEEqjtE"
      },
      "source": [
        "from tensorflow.keras import layers\n",
        "\n",
        "max_length = 600\n",
        "max_tokens = 20000\n",
        "text_vectorization = layers.TextVectorization(\n",
        "    max_tokens=max_tokens,\n",
        "    output_mode=\"int\",\n",
        "    output_sequence_length=max_length,\n",
        ")\n",
        "text_vectorization.adapt(text_only_train_ds)\n",
        "\n",
        "int_train_ds = train_ds.map(\n",
        "    lambda x, y: (text_vectorization(x), y),\n",
        "    num_parallel_calls=4)\n",
        "int_val_ds = val_ds.map(\n",
        "    lambda x, y: (text_vectorization(x), y),\n",
        "    num_parallel_calls=4)\n",
        "int_test_ds = test_ds.map(\n",
        "    lambda x, y: (text_vectorization(x), y),\n",
        "    num_parallel_calls=4)"
      ],
      "execution_count": 7,
      "outputs": []
    },
    {
      "cell_type": "markdown",
      "metadata": {
        "id": "zAf_tp_nqjtF"
      },
      "source": [
        "**A sequence model built on one-hot encoded vector sequences**"
      ]
    },
    {
      "cell_type": "code",
      "metadata": {
        "id": "s1TuvTKlqjtF",
        "colab": {
          "base_uri": "https://localhost:8080/"
        },
        "outputId": "c8f25bbb-c97a-4341-8a05-fe1cc7f18759"
      },
      "source": [
        "import tensorflow as tf\n",
        "inputs = keras.Input(shape=(None,), dtype=\"int64\")\n",
        "embedded = tf.one_hot(inputs, depth=max_tokens)\n",
        "x = layers.Bidirectional(layers.LSTM(32))(embedded)\n",
        "x = layers.Dropout(0.5)(x)\n",
        "outputs = layers.Dense(1, activation=\"sigmoid\")(x)\n",
        "model = keras.Model(inputs, outputs)\n",
        "model.compile(optimizer=\"rmsprop\",\n",
        "              loss=\"binary_crossentropy\",\n",
        "              metrics=[\"accuracy\"])\n",
        "model.summary()"
      ],
      "execution_count": null,
      "outputs": [
        {
          "output_type": "stream",
          "name": "stdout",
          "text": [
            "Model: \"model\"\n",
            "_________________________________________________________________\n",
            " Layer (type)                Output Shape              Param #   \n",
            "=================================================================\n",
            " input_1 (InputLayer)        [(None, None)]            0         \n",
            "                                                                 \n",
            " tf.one_hot (TFOpLambda)     (None, None, 20000)       0         \n",
            "                                                                 \n",
            " bidirectional (Bidirectiona  (None, 64)               5128448   \n",
            " l)                                                              \n",
            "                                                                 \n",
            " dropout (Dropout)           (None, 64)                0         \n",
            "                                                                 \n",
            " dense (Dense)               (None, 1)                 65        \n",
            "                                                                 \n",
            "=================================================================\n",
            "Total params: 5,128,513\n",
            "Trainable params: 5,128,513\n",
            "Non-trainable params: 0\n",
            "_________________________________________________________________\n"
          ]
        }
      ]
    },
    {
      "cell_type": "markdown",
      "metadata": {
        "id": "D1Ip7ZGIqjtF"
      },
      "source": [
        "**Training a first basic sequence model**"
      ]
    },
    {
      "cell_type": "code",
      "metadata": {
        "id": "VhTiPlNKqjtF",
        "colab": {
          "base_uri": "https://localhost:8080/"
        },
        "outputId": "054bbe87-2706-460d-b720-5387d3cf4b75"
      },
      "source": [
        "callbacks = [\n",
        "    keras.callbacks.ModelCheckpoint(\"one_hot_bidir_lstm.keras\",\n",
        "                                    save_best_only=True)\n",
        "]\n",
        "model.fit(int_train_ds, validation_data=int_val_ds, epochs=10, callbacks=callbacks)\n",
        "model = keras.models.load_model(\"one_hot_bidir_lstm.keras\")\n",
        "print(f\"Test acc: {model.evaluate(int_test_ds)[1]:.3f}\")"
      ],
      "execution_count": null,
      "outputs": [
        {
          "output_type": "stream",
          "name": "stdout",
          "text": [
            "Epoch 1/10\n",
            "625/625 [==============================] - 472s 742ms/step - loss: 0.5712 - accuracy: 0.7102 - val_loss: 0.3888 - val_accuracy: 0.8546\n",
            "Epoch 2/10\n",
            "625/625 [==============================] - 465s 743ms/step - loss: 0.3672 - accuracy: 0.8678 - val_loss: 0.3335 - val_accuracy: 0.8736\n",
            "Epoch 3/10\n",
            "625/625 [==============================] - 464s 743ms/step - loss: 0.2719 - accuracy: 0.9050 - val_loss: 0.3050 - val_accuracy: 0.8810\n",
            "Epoch 4/10\n",
            "625/625 [==============================] - 465s 744ms/step - loss: 0.2331 - accuracy: 0.9197 - val_loss: 0.2809 - val_accuracy: 0.8928\n",
            "Epoch 5/10\n",
            "625/625 [==============================] - 465s 743ms/step - loss: 0.1973 - accuracy: 0.9321 - val_loss: 0.4665 - val_accuracy: 0.8792\n",
            "Epoch 6/10\n",
            "625/625 [==============================] - 465s 744ms/step - loss: 0.1691 - accuracy: 0.9430 - val_loss: 0.4486 - val_accuracy: 0.8800\n",
            "Epoch 7/10\n",
            "625/625 [==============================] - 464s 742ms/step - loss: 0.1554 - accuracy: 0.9503 - val_loss: 0.3513 - val_accuracy: 0.8898\n",
            "Epoch 8/10\n",
            "625/625 [==============================] - 465s 743ms/step - loss: 0.1344 - accuracy: 0.9571 - val_loss: 0.6191 - val_accuracy: 0.8260\n",
            "Epoch 9/10\n",
            "625/625 [==============================] - 464s 742ms/step - loss: 0.1147 - accuracy: 0.9633 - val_loss: 0.3633 - val_accuracy: 0.8744\n",
            "Epoch 10/10\n",
            "625/625 [==============================] - 464s 742ms/step - loss: 0.0964 - accuracy: 0.9684 - val_loss: 0.3983 - val_accuracy: 0.8822\n",
            "782/782 [==============================] - 326s 416ms/step - loss: 0.3040 - accuracy: 0.8788\n",
            "Test acc: 0.879\n"
          ]
        }
      ]
    },
    {
      "cell_type": "markdown",
      "metadata": {
        "id": "0d1vpHqsqjtG"
      },
      "source": [
        "#### Understanding word embeddings"
      ]
    },
    {
      "cell_type": "markdown",
      "metadata": {
        "id": "QMWOHo4NqjtG"
      },
      "source": [
        "#### Learning word embeddings with the Embedding layer"
      ]
    },
    {
      "cell_type": "markdown",
      "metadata": {
        "id": "f_eECKRbqjtG"
      },
      "source": [
        "**Instantiating an `Embedding` layer**"
      ]
    },
    {
      "cell_type": "code",
      "metadata": {
        "id": "NmThge5RqjtG"
      },
      "source": [
        "embedding_layer = layers.Embedding(input_dim=max_tokens, output_dim=256)"
      ],
      "execution_count": null,
      "outputs": []
    },
    {
      "cell_type": "markdown",
      "metadata": {
        "id": "wkiUQRxAqjtH"
      },
      "source": [
        "**Model that uses an `Embedding` layer trained from scratch**"
      ]
    },
    {
      "cell_type": "code",
      "metadata": {
        "id": "I7TpkP9dqjtH",
        "colab": {
          "base_uri": "https://localhost:8080/"
        },
        "outputId": "c8f32024-7bb2-4ac9-bf0c-a12659f622b6"
      },
      "source": [
        "inputs = keras.Input(shape=(None,), dtype=\"int64\")\n",
        "embedded = layers.Embedding(input_dim=max_tokens, output_dim=256)(inputs)\n",
        "x = layers.Bidirectional(layers.LSTM(32))(embedded)\n",
        "x = layers.Dropout(0.5)(x)\n",
        "outputs = layers.Dense(1, activation=\"sigmoid\")(x)\n",
        "model = keras.Model(inputs, outputs)\n",
        "model.compile(optimizer=\"rmsprop\",\n",
        "              loss=\"binary_crossentropy\",\n",
        "              metrics=[\"accuracy\"])\n",
        "model.summary()\n",
        "\n",
        "callbacks = [\n",
        "    keras.callbacks.ModelCheckpoint(\"embeddings_bidir_gru.keras\",\n",
        "                                    save_best_only=True)\n",
        "]\n",
        "model.fit(int_train_ds, validation_data=int_val_ds, epochs=10, callbacks=callbacks)\n",
        "model = keras.models.load_model(\"embeddings_bidir_gru.keras\")\n",
        "print(f\"Test acc: {model.evaluate(int_test_ds)[1]:.3f}\")"
      ],
      "execution_count": null,
      "outputs": [
        {
          "output_type": "stream",
          "name": "stdout",
          "text": [
            "Model: \"model_1\"\n",
            "_________________________________________________________________\n",
            " Layer (type)                Output Shape              Param #   \n",
            "=================================================================\n",
            " input_2 (InputLayer)        [(None, None)]            0         \n",
            "                                                                 \n",
            " embedding_1 (Embedding)     (None, None, 256)         5120000   \n",
            "                                                                 \n",
            " bidirectional_1 (Bidirectio  (None, 64)               73984     \n",
            " nal)                                                            \n",
            "                                                                 \n",
            " dropout_1 (Dropout)         (None, 64)                0         \n",
            "                                                                 \n",
            " dense_1 (Dense)             (None, 1)                 65        \n",
            "                                                                 \n",
            "=================================================================\n",
            "Total params: 5,194,049\n",
            "Trainable params: 5,194,049\n",
            "Non-trainable params: 0\n",
            "_________________________________________________________________\n",
            "Epoch 1/10\n",
            "625/625 [==============================] - 136s 211ms/step - loss: 0.4785 - accuracy: 0.7778 - val_loss: 0.3614 - val_accuracy: 0.8626\n",
            "Epoch 2/10\n",
            "625/625 [==============================] - 130s 208ms/step - loss: 0.3003 - accuracy: 0.8902 - val_loss: 0.3826 - val_accuracy: 0.8486\n",
            "Epoch 3/10\n",
            "625/625 [==============================] - 130s 208ms/step - loss: 0.2416 - accuracy: 0.9151 - val_loss: 0.3194 - val_accuracy: 0.8754\n",
            "Epoch 4/10\n",
            "625/625 [==============================] - 129s 207ms/step - loss: 0.2004 - accuracy: 0.9322 - val_loss: 0.3262 - val_accuracy: 0.8864\n",
            "Epoch 5/10\n",
            "625/625 [==============================] - 130s 207ms/step - loss: 0.1772 - accuracy: 0.9408 - val_loss: 0.3409 - val_accuracy: 0.8754\n",
            "Epoch 6/10\n",
            "625/625 [==============================] - 129s 207ms/step - loss: 0.1434 - accuracy: 0.9521 - val_loss: 0.4176 - val_accuracy: 0.8510\n",
            "Epoch 7/10\n",
            "625/625 [==============================] - 129s 207ms/step - loss: 0.1158 - accuracy: 0.9620 - val_loss: 0.3614 - val_accuracy: 0.8796\n",
            "Epoch 8/10\n",
            "625/625 [==============================] - 129s 207ms/step - loss: 0.0982 - accuracy: 0.9683 - val_loss: 0.3867 - val_accuracy: 0.8770\n",
            "Epoch 9/10\n",
            "625/625 [==============================] - 129s 206ms/step - loss: 0.0816 - accuracy: 0.9752 - val_loss: 0.4464 - val_accuracy: 0.8814\n",
            "Epoch 10/10\n",
            "625/625 [==============================] - 129s 206ms/step - loss: 0.0670 - accuracy: 0.9791 - val_loss: 0.4926 - val_accuracy: 0.8822\n",
            "782/782 [==============================] - 59s 74ms/step - loss: 0.3704 - accuracy: 0.8507\n",
            "Test acc: 0.851\n"
          ]
        }
      ]
    },
    {
      "cell_type": "markdown",
      "metadata": {
        "id": "zxwltiUoqjtH"
      },
      "source": [
        "#### Understanding padding and masking"
      ]
    },
    {
      "cell_type": "markdown",
      "metadata": {
        "id": "hjBDOeu_qjtH"
      },
      "source": [
        "**Using an `Embedding` layer with masking enabled**"
      ]
    },
    {
      "cell_type": "code",
      "metadata": {
        "id": "Smvo4YsMqjtH",
        "colab": {
          "base_uri": "https://localhost:8080/"
        },
        "outputId": "8519f2b3-29da-49bb-d5c9-26faf121b268"
      },
      "source": [
        "inputs = keras.Input(shape=(None,), dtype=\"int64\")\n",
        "embedded = layers.Embedding(\n",
        "    input_dim=max_tokens, output_dim=256, mask_zero=True)(inputs)\n",
        "x = layers.Bidirectional(layers.LSTM(32))(embedded)\n",
        "x = layers.Dropout(0.5)(x)\n",
        "outputs = layers.Dense(1, activation=\"sigmoid\")(x)\n",
        "model = keras.Model(inputs, outputs)\n",
        "model.compile(optimizer=\"rmsprop\",\n",
        "              loss=\"binary_crossentropy\",\n",
        "              metrics=[\"accuracy\"])\n",
        "model.summary()\n",
        "\n",
        "callbacks = [\n",
        "    keras.callbacks.ModelCheckpoint(\"embeddings_bidir_gru_with_masking.keras\",\n",
        "                                    save_best_only=True)\n",
        "]\n",
        "model.fit(int_train_ds, validation_data=int_val_ds, epochs=10, callbacks=callbacks)\n",
        "model = keras.models.load_model(\"embeddings_bidir_gru_with_masking.keras\")\n",
        "print(f\"Test acc: {model.evaluate(int_test_ds)[1]:.3f}\")"
      ],
      "execution_count": null,
      "outputs": [
        {
          "output_type": "stream",
          "name": "stdout",
          "text": [
            "Model: \"model_2\"\n",
            "_________________________________________________________________\n",
            " Layer (type)                Output Shape              Param #   \n",
            "=================================================================\n",
            " input_3 (InputLayer)        [(None, None)]            0         \n",
            "                                                                 \n",
            " embedding_2 (Embedding)     (None, None, 256)         5120000   \n",
            "                                                                 \n",
            " bidirectional_2 (Bidirectio  (None, 64)               73984     \n",
            " nal)                                                            \n",
            "                                                                 \n",
            " dropout_2 (Dropout)         (None, 64)                0         \n",
            "                                                                 \n",
            " dense_2 (Dense)             (None, 1)                 65        \n",
            "                                                                 \n",
            "=================================================================\n",
            "Total params: 5,194,049\n",
            "Trainable params: 5,194,049\n",
            "Non-trainable params: 0\n",
            "_________________________________________________________________\n",
            "Epoch 1/10\n",
            "625/625 [==============================] - 150s 226ms/step - loss: 0.4002 - accuracy: 0.8224 - val_loss: 0.3573 - val_accuracy: 0.8450\n",
            "Epoch 2/10\n",
            "625/625 [==============================] - 138s 221ms/step - loss: 0.2395 - accuracy: 0.9070 - val_loss: 0.2683 - val_accuracy: 0.8894\n",
            "Epoch 3/10\n",
            "625/625 [==============================] - 138s 221ms/step - loss: 0.1707 - accuracy: 0.9360 - val_loss: 0.2818 - val_accuracy: 0.8890\n",
            "Epoch 4/10\n",
            "625/625 [==============================] - 138s 221ms/step - loss: 0.1288 - accuracy: 0.9556 - val_loss: 0.3571 - val_accuracy: 0.8902\n",
            "Epoch 5/10\n",
            "625/625 [==============================] - 138s 220ms/step - loss: 0.0986 - accuracy: 0.9660 - val_loss: 0.3734 - val_accuracy: 0.8816\n",
            "Epoch 6/10\n",
            "625/625 [==============================] - 137s 219ms/step - loss: 0.0686 - accuracy: 0.9766 - val_loss: 0.3606 - val_accuracy: 0.8804\n",
            "Epoch 7/10\n",
            "625/625 [==============================] - 136s 218ms/step - loss: 0.0526 - accuracy: 0.9837 - val_loss: 0.4416 - val_accuracy: 0.8768\n",
            "Epoch 8/10\n",
            "625/625 [==============================] - 137s 219ms/step - loss: 0.0373 - accuracy: 0.9871 - val_loss: 0.4539 - val_accuracy: 0.8722\n",
            "Epoch 9/10\n",
            "625/625 [==============================] - 136s 218ms/step - loss: 0.0266 - accuracy: 0.9912 - val_loss: 0.5216 - val_accuracy: 0.8736\n",
            "Epoch 10/10\n",
            "625/625 [==============================] - 136s 218ms/step - loss: 0.0188 - accuracy: 0.9941 - val_loss: 0.6042 - val_accuracy: 0.8784\n",
            "782/782 [==============================] - 67s 83ms/step - loss: 0.2924 - accuracy: 0.8756\n",
            "Test acc: 0.876\n"
          ]
        }
      ]
    },
    {
      "cell_type": "markdown",
      "metadata": {
        "id": "tLgNydS7qjtI"
      },
      "source": [
        "#### Using pretrained word embeddings"
      ]
    },
    {
      "cell_type": "code",
      "metadata": {
        "id": "bsu2YAcZqjtI",
        "colab": {
          "base_uri": "https://localhost:8080/"
        },
        "outputId": "2476d7fa-0671-41cb-b03f-36c0bc3ce1cc"
      },
      "source": [
        "!wget http://nlp.stanford.edu/data/glove.6B.zip\n",
        "!unzip -q glove.6B.zip"
      ],
      "execution_count": 1,
      "outputs": [
        {
          "output_type": "stream",
          "name": "stdout",
          "text": [
            "--2021-12-02 12:43:44--  http://nlp.stanford.edu/data/glove.6B.zip\n",
            "Resolving nlp.stanford.edu (nlp.stanford.edu)... 171.64.67.140\n",
            "Connecting to nlp.stanford.edu (nlp.stanford.edu)|171.64.67.140|:80... connected.\n",
            "HTTP request sent, awaiting response... 302 Found\n",
            "Location: https://nlp.stanford.edu/data/glove.6B.zip [following]\n",
            "--2021-12-02 12:43:45--  https://nlp.stanford.edu/data/glove.6B.zip\n",
            "Connecting to nlp.stanford.edu (nlp.stanford.edu)|171.64.67.140|:443... connected.\n",
            "HTTP request sent, awaiting response... 301 Moved Permanently\n",
            "Location: http://downloads.cs.stanford.edu/nlp/data/glove.6B.zip [following]\n",
            "--2021-12-02 12:43:45--  http://downloads.cs.stanford.edu/nlp/data/glove.6B.zip\n",
            "Resolving downloads.cs.stanford.edu (downloads.cs.stanford.edu)... 171.64.64.22\n",
            "Connecting to downloads.cs.stanford.edu (downloads.cs.stanford.edu)|171.64.64.22|:80... connected.\n",
            "HTTP request sent, awaiting response... 200 OK\n",
            "Length: 862182613 (822M) [application/zip]\n",
            "Saving to: ‘glove.6B.zip’\n",
            "\n",
            "glove.6B.zip        100%[===================>] 822.24M  5.10MB/s    in 2m 40s  \n",
            "\n",
            "2021-12-02 12:46:25 (5.14 MB/s) - ‘glove.6B.zip’ saved [862182613/862182613]\n",
            "\n"
          ]
        }
      ]
    },
    {
      "cell_type": "markdown",
      "metadata": {
        "id": "hDVKJoB6qjtI"
      },
      "source": [
        "**Parsing the GloVe word-embeddings file**"
      ]
    },
    {
      "cell_type": "code",
      "metadata": {
        "id": "Ifh3blKGqjtI",
        "colab": {
          "base_uri": "https://localhost:8080/"
        },
        "outputId": "6b72e5ab-cbb7-4a81-a4fc-35b42494eb4a"
      },
      "source": [
        "import numpy as np\n",
        "from tensorflow import keras\n",
        "from tensorflow.keras import layers\n",
        "import tensorflow as tf\n",
        "\n",
        "path_to_glove_file = \"glove.6B.100d.txt\"\n",
        "\n",
        "embeddings_index = {}\n",
        "with open(path_to_glove_file) as f:\n",
        "    for line in f:\n",
        "        word, coefs = line.split(maxsplit=1)\n",
        "        coefs = np.fromstring(coefs, \"f\", sep=\" \")\n",
        "        embeddings_index[word] = coefs\n",
        "\n",
        "print(f\"Found {len(embeddings_index)} word vectors.\")"
      ],
      "execution_count": 2,
      "outputs": [
        {
          "output_type": "stream",
          "name": "stdout",
          "text": [
            "Found 400000 word vectors.\n"
          ]
        }
      ]
    },
    {
      "cell_type": "markdown",
      "metadata": {
        "id": "6IVddrnLqjtI"
      },
      "source": [
        "**Preparing the GloVe word-embeddings matrix**"
      ]
    },
    {
      "cell_type": "code",
      "metadata": {
        "id": "HeMx9z8hqjtJ"
      },
      "source": [
        "embedding_dim = 100\n",
        "\n",
        "vocabulary = text_vectorization.get_vocabulary()\n",
        "word_index = dict(zip(vocabulary, range(len(vocabulary))))\n",
        "\n",
        "embedding_matrix = np.zeros((max_tokens, embedding_dim))\n",
        "for word, i in word_index.items():\n",
        "    if i < max_tokens:\n",
        "        embedding_vector = embeddings_index.get(word)\n",
        "    if embedding_vector is not None:\n",
        "        embedding_matrix[i] = embedding_vector"
      ],
      "execution_count": 8,
      "outputs": []
    },
    {
      "cell_type": "code",
      "metadata": {
        "id": "3nEgv_MxqjtJ"
      },
      "source": [
        "embedding_layer = layers.Embedding(\n",
        "    max_tokens,\n",
        "    embedding_dim,\n",
        "    embeddings_initializer=keras.initializers.Constant(embedding_matrix),\n",
        "    trainable=False,\n",
        "    mask_zero=True,\n",
        ")"
      ],
      "execution_count": 10,
      "outputs": []
    },
    {
      "cell_type": "markdown",
      "metadata": {
        "id": "HBq5KWULqjtJ"
      },
      "source": [
        "**Model that uses a pretrained Embedding layer**"
      ]
    },
    {
      "cell_type": "code",
      "metadata": {
        "id": "LF3DLQBSqjtJ",
        "colab": {
          "base_uri": "https://localhost:8080/"
        },
        "outputId": "76da87ff-d790-4276-ef5d-d171db42ddfd"
      },
      "source": [
        "inputs = keras.Input(shape=(None,), dtype=\"int64\")\n",
        "embedded = embedding_layer(inputs)\n",
        "x = layers.Bidirectional(layers.LSTM(32))(embedded)\n",
        "x = layers.Dropout(0.5)(x)\n",
        "outputs = layers.Dense(1, activation=\"sigmoid\")(x)\n",
        "model = keras.Model(inputs, outputs)\n",
        "model.compile(optimizer=\"rmsprop\",\n",
        "              loss=\"binary_crossentropy\",\n",
        "              metrics=[\"accuracy\"])\n",
        "model.summary()\n",
        "\n",
        "callbacks = [\n",
        "    keras.callbacks.ModelCheckpoint(\"glove_embeddings_sequence_model.keras\",\n",
        "                                    save_best_only=True)\n",
        "]\n",
        "model.fit(int_train_ds, validation_data=int_val_ds, epochs=10, callbacks=callbacks)\n",
        "model = keras.models.load_model(\"glove_embeddings_sequence_model.keras\")\n",
        "print(f\"Test acc: {model.evaluate(int_test_ds)[1]:.3f}\")"
      ],
      "execution_count": 11,
      "outputs": [
        {
          "output_type": "stream",
          "name": "stdout",
          "text": [
            "Model: \"model\"\n",
            "_________________________________________________________________\n",
            " Layer (type)                Output Shape              Param #   \n",
            "=================================================================\n",
            " input_2 (InputLayer)        [(None, None)]            0         \n",
            "                                                                 \n",
            " embedding (Embedding)       (None, None, 100)         2000000   \n",
            "                                                                 \n",
            " bidirectional (Bidirectiona  (None, 64)               34048     \n",
            " l)                                                              \n",
            "                                                                 \n",
            " dropout (Dropout)           (None, 64)                0         \n",
            "                                                                 \n",
            " dense (Dense)               (None, 1)                 65        \n",
            "                                                                 \n",
            "=================================================================\n",
            "Total params: 2,034,113\n",
            "Trainable params: 34,113\n",
            "Non-trainable params: 2,000,000\n",
            "_________________________________________________________________\n",
            "Epoch 1/10\n",
            "625/625 [==============================] - 149s 220ms/step - loss: 0.5612 - accuracy: 0.7076 - val_loss: 0.4401 - val_accuracy: 0.8048\n",
            "Epoch 2/10\n",
            "625/625 [==============================] - 135s 215ms/step - loss: 0.4463 - accuracy: 0.7976 - val_loss: 0.3830 - val_accuracy: 0.8352\n",
            "Epoch 3/10\n",
            "625/625 [==============================] - 134s 215ms/step - loss: 0.3983 - accuracy: 0.8260 - val_loss: 0.3830 - val_accuracy: 0.8284\n",
            "Epoch 4/10\n",
            "625/625 [==============================] - 133s 213ms/step - loss: 0.3680 - accuracy: 0.8432 - val_loss: 0.3444 - val_accuracy: 0.8566\n",
            "Epoch 5/10\n",
            "625/625 [==============================] - 132s 212ms/step - loss: 0.3408 - accuracy: 0.8547 - val_loss: 0.3263 - val_accuracy: 0.8620\n",
            "Epoch 6/10\n",
            "625/625 [==============================] - 133s 213ms/step - loss: 0.3207 - accuracy: 0.8656 - val_loss: 0.3182 - val_accuracy: 0.8632\n",
            "Epoch 7/10\n",
            "625/625 [==============================] - 131s 210ms/step - loss: 0.3039 - accuracy: 0.8751 - val_loss: 0.3184 - val_accuracy: 0.8682\n",
            "Epoch 8/10\n",
            "625/625 [==============================] - 132s 212ms/step - loss: 0.2891 - accuracy: 0.8800 - val_loss: 0.2999 - val_accuracy: 0.8748\n",
            "Epoch 9/10\n",
            "625/625 [==============================] - 133s 213ms/step - loss: 0.2726 - accuracy: 0.8899 - val_loss: 0.2953 - val_accuracy: 0.8794\n",
            "Epoch 10/10\n",
            "625/625 [==============================] - 130s 208ms/step - loss: 0.2615 - accuracy: 0.8939 - val_loss: 0.2983 - val_accuracy: 0.8772\n",
            "782/782 [==============================] - 65s 79ms/step - loss: 0.2985 - accuracy: 0.8726\n",
            "Test acc: 0.873\n"
          ]
        }
      ]
    }
  ]
}