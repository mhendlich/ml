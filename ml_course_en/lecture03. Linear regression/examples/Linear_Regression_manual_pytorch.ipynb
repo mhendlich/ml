{
 "cells": [
  {
   "cell_type": "markdown",
   "metadata": {
    "id": "NGE2LxIQuSRa"
   },
   "source": [
    "# Linear regression examples\n"
   ]
  },
  {
   "cell_type": "markdown",
   "metadata": {
    "id": "Hi-KdxD_uSln"
   },
   "source": [
    "Our goal is to learn a linear model $\\hat{y}$ that models $y$ given $X$. \n",
    "\n",
    "$\\hat{y} = XW + b$\n",
    "* $\\hat{y}$ = predictions | $\\in \\mathbb{R}^{NX1}$ ($N$ is the number of samples)\n",
    "* $X$ = inputs | $\\in \\mathbb{R}^{NXD}$ ($D$ is the number of features)\n",
    "* $W$ = weights | $\\in \\mathbb{R}^{DX1}$ \n",
    "* $b$ = bias | $\\in \\mathbb{R}^{1}$ "
   ]
  },
  {
   "cell_type": "markdown",
   "metadata": {
    "id": "DxOri3K3uSsB"
   },
   "source": [
    "* **Objective:**  Use inputs $X$ to predict the output $\\hat{y}$ using a linear model. The model will be a line of best fit that minimizes the distance between the predicted (model's output) and target (ground truth) values. Training data $(X, y)$ is used to train the model and learn the weights $W$ using gradient descent.\n",
    "* **Advantages:**\n",
    "  * Computationally simple.\n",
    "  * Highly interpretable.\n",
    "  * Can account for continuous and categorical features.\n",
    "* **Disadvantages:**\n",
    "  * The model will perform well only when the data is linearly separable (for classification).\n",
    "  * Usually not used for classification and only for regression.\n",
    "* **Miscellaneous:** You can also use linear regression for binary classification tasks where if the predicted continuous value is above a threshold, it belongs to a certain class. But we will cover better techniques for classification in future lessons and will focus on linear regression for continuous regression tasks only.\n"
   ]
  },
  {
   "cell_type": "markdown",
   "metadata": {
    "id": "G8EkjWiKd68P"
   },
   "source": [
    "# Generate data"
   ]
  },
  {
   "cell_type": "markdown",
   "metadata": {
    "id": "2u0wnvwWgjmT"
   },
   "source": [
    "We're going to generate some simple dummy data to apply linear regression on. It's going to create roughly linear data (`y = 3.5X + noise`); the random noise is added to create realistic data that doesn't perfectly align in a line. Our goal is to have the model converge to a similar linear equation (there will be slight variance since we added some noise)."
   ]
  },
  {
   "cell_type": "code",
   "execution_count": 1843,
   "metadata": {
    "id": "a39zl86Fg1CL"
   },
   "outputs": [],
   "source": [
    "import numpy as np\n",
    "import pandas as pd\n",
    "import matplotlib.pyplot as plt"
   ]
  },
  {
   "cell_type": "code",
   "execution_count": 1844,
   "metadata": {
    "id": "9rUjxlhvhzIR"
   },
   "outputs": [],
   "source": [
    "SEED = 1234\n",
    "NUM_SAMPLES = 500"
   ]
  },
  {
   "cell_type": "code",
   "execution_count": 1845,
   "metadata": {
    "id": "OOT0wOiZX9eJ"
   },
   "outputs": [],
   "source": [
    "# Set seed for reproducibility\n",
    "np.random.seed(SEED)"
   ]
  },
  {
   "cell_type": "code",
   "execution_count": 1846,
   "metadata": {
    "id": "vCcF_QkYdozl"
   },
   "outputs": [],
   "source": [
    "# Generate synthetic data\n",
    "def generate_data(num_samples):\n",
    "    \"\"\"Generate dummy data for linear regression.\"\"\"\n",
    "    X = np.linspace(0, 100, num_samples)\n",
    "    random_noise = np.random.uniform(-30, 30, size=num_samples)\n",
    "    y = 3.5 * X + random_noise # add some noise\n",
    "    return X, y"
   ]
  },
  {
   "cell_type": "code",
   "execution_count": 1847,
   "metadata": {
    "colab": {
     "base_uri": "https://localhost:8080/"
    },
    "executionInfo": {
     "elapsed": 1336,
     "status": "ok",
     "timestamp": 1608003286241,
     "user": {
      "displayName": "Goku Mohandas",
      "photoUrl": "https://lh3.googleusercontent.com/a-/AOh14GjMIOf3R_zwS_zZx4ZyPMtQe0lOkGpPOEUEKWpM7g=s64",
      "userId": "00378334517810298963"
     },
     "user_tz": 420
    },
    "id": "kzSANn29g36a",
    "outputId": "1ab15243-7cee-4415-d085-03a01525aa26"
   },
   "outputs": [
    {
     "name": "stdout",
     "output_type": "stream",
     "text": [
      "[[  0.         -18.50883298]\n",
      " [  0.2004008    8.02792907]\n",
      " [  0.4008016   -2.33353005]\n",
      " [  0.6012024   19.22572344]\n",
      " [  0.80160321  19.60415971]]\n"
     ]
    }
   ],
   "source": [
    "# Generate random (linear) data\n",
    "X, y = generate_data(num_samples=NUM_SAMPLES)\n",
    "data = np.vstack([X, y]).T\n",
    "print (data[:5])"
   ]
  },
  {
   "cell_type": "code",
   "execution_count": 1848,
   "metadata": {
    "colab": {
     "base_uri": "https://localhost:8080/",
     "height": 204
    },
    "executionInfo": {
     "elapsed": 1310,
     "status": "ok",
     "timestamp": 1608003286245,
     "user": {
      "displayName": "Goku Mohandas",
      "photoUrl": "https://lh3.googleusercontent.com/a-/AOh14GjMIOf3R_zwS_zZx4ZyPMtQe0lOkGpPOEUEKWpM7g=s64",
      "userId": "00378334517810298963"
     },
     "user_tz": 420
    },
    "id": "4ckWsUsKhCDC",
    "outputId": "832c470d-aeb1-43d5-a5b4-bbb2077a42de"
   },
   "outputs": [
    {
     "data": {
      "text/html": [
       "<div>\n",
       "<style scoped>\n",
       "    .dataframe tbody tr th:only-of-type {\n",
       "        vertical-align: middle;\n",
       "    }\n",
       "\n",
       "    .dataframe tbody tr th {\n",
       "        vertical-align: top;\n",
       "    }\n",
       "\n",
       "    .dataframe thead th {\n",
       "        text-align: right;\n",
       "    }\n",
       "</style>\n",
       "<table border=\"1\" class=\"dataframe\">\n",
       "  <thead>\n",
       "    <tr style=\"text-align: right;\">\n",
       "      <th></th>\n",
       "      <th>X</th>\n",
       "      <th>y</th>\n",
       "    </tr>\n",
       "  </thead>\n",
       "  <tbody>\n",
       "    <tr>\n",
       "      <th>0</th>\n",
       "      <td>0.000000</td>\n",
       "      <td>-18.508833</td>\n",
       "    </tr>\n",
       "    <tr>\n",
       "      <th>1</th>\n",
       "      <td>0.200401</td>\n",
       "      <td>8.027929</td>\n",
       "    </tr>\n",
       "    <tr>\n",
       "      <th>2</th>\n",
       "      <td>0.400802</td>\n",
       "      <td>-2.333530</td>\n",
       "    </tr>\n",
       "    <tr>\n",
       "      <th>3</th>\n",
       "      <td>0.601202</td>\n",
       "      <td>19.225723</td>\n",
       "    </tr>\n",
       "    <tr>\n",
       "      <th>4</th>\n",
       "      <td>0.801603</td>\n",
       "      <td>19.604160</td>\n",
       "    </tr>\n",
       "  </tbody>\n",
       "</table>\n",
       "</div>"
      ],
      "text/plain": [
       "          X          y\n",
       "0  0.000000 -18.508833\n",
       "1  0.200401   8.027929\n",
       "2  0.400802  -2.333530\n",
       "3  0.601202  19.225723\n",
       "4  0.801603  19.604160"
      ]
     },
     "execution_count": 1848,
     "metadata": {},
     "output_type": "execute_result"
    }
   ],
   "source": [
    "# Load into a Pandas DataFrame\n",
    "df = pd.DataFrame(data, columns=[\"X\", \"y\"])\n",
    "X = df[[\"X\"]].values\n",
    "y = df[[\"y\"]].values\n",
    "df.head()"
   ]
  },
  {
   "cell_type": "code",
   "execution_count": 1849,
   "metadata": {
    "colab": {
     "base_uri": "https://localhost:8080/",
     "height": 281
    },
    "executionInfo": {
     "elapsed": 1776,
     "status": "ok",
     "timestamp": 1608003286747,
     "user": {
      "displayName": "Goku Mohandas",
      "photoUrl": "https://lh3.googleusercontent.com/a-/AOh14GjMIOf3R_zwS_zZx4ZyPMtQe0lOkGpPOEUEKWpM7g=s64",
      "userId": "00378334517810298963"
     },
     "user_tz": 420
    },
    "id": "qh3z65QXhCj5",
    "outputId": "adbfeda2-0100-42e2-ffe2-f4b9d173ce9c"
   },
   "outputs": [
    {
     "data": {
      "image/png": "[encoded data removed]",
      "text/plain": [
       "<Figure size 432x288 with 1 Axes>"
      ]
     },
     "metadata": {
      "needs_background": "light"
     },
     "output_type": "display_data"
    }
   ],
   "source": [
    "# Scatter plot\n",
    "plt.title(\"Generated data\")\n",
    "plt.scatter(x=df[\"X\"], y=df[\"y\"])\n",
    "plt.show()"
   ]
  },
  {
   "cell_type": "markdown",
   "metadata": {
    "id": "Myxvm0YWlppI"
   },
   "source": [
    "# NumPy"
   ]
  },
  {
   "cell_type": "markdown",
   "metadata": {
    "id": "aHhypQvalsTd"
   },
   "source": [
    "Now that we have our data prepared, we'll first implement linear regression using just NumPy. This will let us really understand the underlying operations."
   ]
  },
  {
   "cell_type": "markdown",
   "metadata": {
    "id": "kzjHPncuQpuE"
   },
   "source": [
    "## Split data"
   ]
  },
  {
   "cell_type": "markdown",
   "metadata": {
    "id": "ElbTBdP8Q6k5"
   },
   "source": [
    "Since our task is a regression task, we will randomly split our dataset into three sets: train, validation and test data splits.\n",
    "- `train`: used to train our model.\n",
    "- `val` : used to validate our model's performance during training.\n",
    "- `test`: used to do an evaluation of our fully trained model.\n",
    "\n",
    "> Be sure to check out our entire lesson focused on *properly* [splitting](https://madewithml.com/courses/mlops/splitting/) data in our [mlops](https://madewithml.com/#mlops) course."
   ]
  },
  {
   "cell_type": "code",
   "execution_count": 1850,
   "metadata": {
    "id": "rrTd9wP9Qv2_"
   },
   "outputs": [],
   "source": [
    "TRAIN_SIZE = 0.7\n",
    "VAL_SIZE = 0.15\n",
    "TEST_SIZE = 0.15"
   ]
  },
  {
   "cell_type": "code",
   "execution_count": 1851,
   "metadata": {
    "id": "w3cWO_EwRC72"
   },
   "outputs": [],
   "source": [
    "# Shuffle data\n",
    "indices = list(range(NUM_SAMPLES))\n",
    "np.random.shuffle(indices)\n",
    "X = X[indices]\n",
    "y = y[indices]"
   ]
  },
  {
   "cell_type": "markdown",
   "metadata": {
    "id": "mhnoMWg_gZme"
   },
   "source": [
    "> Be careful not to shuffle X and y separately because then the inputs won't correspond to the outputs!"
   ]
  },
  {
   "cell_type": "code",
   "execution_count": 1852,
   "metadata": {
    "id": "CfmqoOyIRUop"
   },
   "outputs": [],
   "source": [
    "# Split indices\n",
    "train_start = 0\n",
    "train_end = int(0.7*NUM_SAMPLES)\n",
    "val_start = train_end\n",
    "val_end = int((TRAIN_SIZE+VAL_SIZE)*NUM_SAMPLES)\n",
    "test_start = val_end"
   ]
  },
  {
   "cell_type": "code",
   "execution_count": 1853,
   "metadata": {
    "colab": {
     "base_uri": "https://localhost:8080/"
    },
    "executionInfo": {
     "elapsed": 1688,
     "status": "ok",
     "timestamp": 1608003286758,
     "user": {
      "displayName": "Goku Mohandas",
      "photoUrl": "https://lh3.googleusercontent.com/a-/AOh14GjMIOf3R_zwS_zZx4ZyPMtQe0lOkGpPOEUEKWpM7g=s64",
      "userId": "00378334517810298963"
     },
     "user_tz": 420
    },
    "id": "F8JKSPgXSBf6",
    "outputId": "a6ab6359-1455-4089-8659-bc6ed58c7c44"
   },
   "outputs": [
    {
     "name": "stdout",
     "output_type": "stream",
     "text": [
      "X_train: (350, 1), y_train: (350, 1)\n",
      "X_val: (75, 1), y_test: (75, 1)\n",
      "X_test: (75, 1), y_test: (75, 1)\n"
     ]
    }
   ],
   "source": [
    "# Split data\n",
    "X_train = X[train_start:train_end]\n",
    "y_train = y[train_start:train_end]\n",
    "X_val = X[val_start:val_end]\n",
    "y_val = y[val_start:val_end]\n",
    "X_test = X[test_start:]\n",
    "y_test = y[test_start:]\n",
    "print (f\"X_train: {X_train.shape}, y_train: {y_train.shape}\")\n",
    "print (f\"X_val: {X_val.shape}, y_test: {y_val.shape}\")\n",
    "print (f\"X_test: {X_test.shape}, y_test: {y_test.shape}\")"
   ]
  },
  {
   "cell_type": "markdown",
   "metadata": {
    "id": "ok62daFIQv9x"
   },
   "source": [
    "## Normalize data"
   ]
  },
  {
   "cell_type": "markdown",
   "metadata": {
    "id": "0pQweIQuUTpl"
   },
   "source": [
    "We need to standardize our data (zero mean and unit variance) so a specific feature's magnitude doesn't affect how the model learns its weights.\n",
    "\n",
    "$z = \\frac{x_i - \\mu}{\\sigma}$\n",
    "* $z$ = normalized value\n",
    "* $x_i$ = inputs\n",
    "* $\\mu$ = mean\n",
    "* $\\sigma$ = standard deviation"
   ]
  },
  {
   "cell_type": "code",
   "execution_count": 1854,
   "metadata": {
    "id": "pM1h8CrbQyTG"
   },
   "outputs": [],
   "source": [
    "def normalize_data(data, mean, std):\n",
    "    return (data - mean)/std"
   ]
  },
  {
   "cell_type": "code",
   "execution_count": 1855,
   "metadata": {
    "id": "HWvKMt2-Ui3G"
   },
   "outputs": [],
   "source": [
    "# Determine means and stds\n",
    "X_mean = np.mean(X_train)\n",
    "X_std = np.std(X_train)\n",
    "y_mean = np.mean(y_train)\n",
    "y_std = np.std(y_train)"
   ]
  },
  {
   "cell_type": "markdown",
   "metadata": {
    "id": "XM1EXQFeU3cL"
   },
   "source": [
    "We need to treat the validation and test sets as if they were hidden datasets. So we only use the train set to determine the mean and std to avoid biasing our training process."
   ]
  },
  {
   "cell_type": "code",
   "execution_count": 1856,
   "metadata": {
    "id": "csHkTwpyUvt4"
   },
   "outputs": [],
   "source": [
    "# Standardize\n",
    "X_train = normalize_data(X_train, X_mean, X_std)\n",
    "y_train = normalize_data(y_train, y_mean, y_std)\n",
    "X_val = normalize_data(X_val, X_mean, X_std)\n",
    "y_val = normalize_data(y_val, y_mean, y_std)\n",
    "X_test = normalize_data(X_test, X_mean, X_std)\n",
    "y_test = normalize_data(y_test, y_mean, y_std)"
   ]
  },
  {
   "cell_type": "code",
   "execution_count": 1857,
   "metadata": {
    "colab": {
     "base_uri": "https://localhost:8080/"
    },
    "executionInfo": {
     "elapsed": 1601,
     "status": "ok",
     "timestamp": 1608003286764,
     "user": {
      "displayName": "Goku Mohandas",
      "photoUrl": "https://lh3.googleusercontent.com/a-/AOh14GjMIOf3R_zwS_zZx4ZyPMtQe0lOkGpPOEUEKWpM7g=s64",
      "userId": "00378334517810298963"
     },
     "user_tz": 420
    },
    "id": "qKkTM0n1V8SN",
    "outputId": "df406e1d-1a69-45e2-d49f-164fd1801328"
   },
   "outputs": [
    {
     "name": "stdout",
     "output_type": "stream",
     "text": [
      "mean: 0.1, std: 1.0\n",
      "mean: 0.1, std: 1.0\n"
     ]
    }
   ],
   "source": [
    "# Check (means should be ~0 and std should be ~1)\n",
    "print (f\"mean: {np.mean(X_test, axis=0)[0]:.1f}, std: {np.std(X_test, axis=0)[0]:.1f}\")\n",
    "print (f\"mean: {np.mean(y_test, axis=0)[0]:.1f}, std: {np.std(y_test, axis=0)[0]:.1f}\")"
   ]
  },
  {
   "cell_type": "markdown",
   "metadata": {
    "id": "jyqSl8jyQzKz"
   },
   "source": [
    "## Weights"
   ]
  },
  {
   "cell_type": "markdown",
   "metadata": {
    "id": "3xQZ0Hbln6TR"
   },
   "source": [
    "Our goal is to learn a linear model $\\hat{y}$ that models $y$ given $X$. \n",
    "\n",
    "$\\hat{y} = XW + b$\n",
    "* $\\hat{y}$ = predictions | $\\in \\mathbb{R}^{NX1}$ ($N$ is the number of samples)\n",
    "* $X$ = inputs | $\\in \\mathbb{R}^{NXD}$ ($D$ is the number of features)\n",
    "* $W$ = weights | $\\in \\mathbb{R}^{DX1}$ \n",
    "* $b$ = bias | $\\in \\mathbb{R}^{1}$ "
   ]
  },
  {
   "cell_type": "markdown",
   "metadata": {
    "id": "Baph5j7xn9XE"
   },
   "source": [
    "1. Randomly initialize the model's weights $W$."
   ]
  },
  {
   "cell_type": "code",
   "execution_count": 1858,
   "metadata": {
    "id": "aAOAboM0oFbV"
   },
   "outputs": [
    {
     "name": "stdout",
     "output_type": "stream",
     "text": [
      "1 1\n"
     ]
    }
   ],
   "source": [
    "INPUT_DIM = X_train.shape[1] # X is 1-dimensional\n",
    "OUTPUT_DIM = y_train.shape[1] # y is 1-dimensional\n",
    "print(INPUT_DIM, OUTPUT_DIM)"
   ]
  },
  {
   "cell_type": "code",
   "execution_count": 1859,
   "metadata": {
    "colab": {
     "base_uri": "https://localhost:8080/"
    },
    "executionInfo": {
     "elapsed": 1558,
     "status": "ok",
     "timestamp": 1608003286768,
     "user": {
      "displayName": "Goku Mohandas",
      "photoUrl": "https://lh3.googleusercontent.com/a-/AOh14GjMIOf3R_zwS_zZx4ZyPMtQe0lOkGpPOEUEKWpM7g=s64",
      "userId": "00378334517810298963"
     },
     "user_tz": 420
    },
    "id": "chU5n3IgkVci",
    "outputId": "29ee498f-245f-44f7-9361-549014809610"
   },
   "outputs": [
    {
     "name": "stdout",
     "output_type": "stream",
     "text": [
      "W: (1, 1)\n",
      "b: (1, 1)\n"
     ]
    }
   ],
   "source": [
    "# Initialize random weights\n",
    "W = 0.01 * np.random.randn(INPUT_DIM, OUTPUT_DIM)\n",
    "b = np.zeros((1, 1))\n",
    "print (f\"W: {W.shape}\")\n",
    "print (f\"b: {b.shape}\")"
   ]
  },
  {
   "cell_type": "markdown",
   "metadata": {
    "id": "_QjDXSXfWv7Y"
   },
   "source": [
    "## Model"
   ]
  },
  {
   "cell_type": "markdown",
   "metadata": {
    "id": "tOqP0jrBoMMd"
   },
   "source": [
    "2. Feed inputs $X$ into the model to receive the predictions $\\hat{y}$.\n",
    "  * $\\hat{y} = XW + b$"
   ]
  },
  {
   "cell_type": "code",
   "execution_count": 1860,
   "metadata": {
    "colab": {
     "base_uri": "https://localhost:8080/"
    },
    "executionInfo": {
     "elapsed": 1536,
     "status": "ok",
     "timestamp": 1608003286770,
     "user": {
      "displayName": "Goku Mohandas",
      "photoUrl": "https://lh3.googleusercontent.com/a-/AOh14GjMIOf3R_zwS_zZx4ZyPMtQe0lOkGpPOEUEKWpM7g=s64",
      "userId": "00378334517810298963"
     },
     "user_tz": 420
    },
    "id": "-TBnfN4mkVa6",
    "outputId": "419fa56c-e1d6-4222-bb89-f5b53ce4db98"
   },
   "outputs": [
    {
     "name": "stdout",
     "output_type": "stream",
     "text": [
      "y_pred: (350, 1)\n"
     ]
    }
   ],
   "source": [
    "# Forward pass [NX1] · [1X1] = [NX1]\n",
    "y_pred = np.dot(X_train, W) + b\n",
    "print (f\"y_pred: {y_pred.shape}\")"
   ]
  },
  {
   "cell_type": "markdown",
   "metadata": {
    "id": "hcvVc7UkWyMx"
   },
   "source": [
    "## Loss"
   ]
  },
  {
   "cell_type": "markdown",
   "metadata": {
    "id": "8EbP8eWUoRqo"
   },
   "source": [
    "3. Compare the predictions $\\hat{y}$ with the actual target values $y$ using the objective (cost) function to determine the loss $J$. A common objective function for linear regression is mean squarred error (MSE). This function calculates the difference between the predicted and target values and squares it.\n",
    "\n",
    "  * $J(\\theta) = MSE = \\frac{1}{N} \\sum_{i-1}^{N} (y_i - \\hat{y}_i)^2 $\n",
    "    * ${y}$ = ground truth | $\\in \\mathbb{R}^{NX1}$\n",
    "    * $\\hat{y}$ = predictions | $\\in \\mathbb{R}^{NX1}$"
   ]
  },
  {
   "cell_type": "code",
   "execution_count": 1861,
   "metadata": {
    "colab": {
     "base_uri": "https://localhost:8080/"
    },
    "executionInfo": {
     "elapsed": 1496,
     "status": "ok",
     "timestamp": 1608003286773,
     "user": {
      "displayName": "Goku Mohandas",
      "photoUrl": "https://lh3.googleusercontent.com/a-/AOh14GjMIOf3R_zwS_zZx4ZyPMtQe0lOkGpPOEUEKWpM7g=s64",
      "userId": "00378334517810298963"
     },
     "user_tz": 420
    },
    "id": "h30Y6v5FoPBL",
    "outputId": "2d500032-1bc0-4ef1-8cd9-0a7256bc60a7"
   },
   "outputs": [
    {
     "name": "stdout",
     "output_type": "stream",
     "text": [
      "loss: 1.03\n"
     ]
    }
   ],
   "source": [
    "# Loss\n",
    "N = len(y_train)\n",
    "loss = (1/N) * np.sum((y_train - y_pred)**2)\n",
    "print (f\"loss: {loss:.2f}\")"
   ]
  },
  {
   "cell_type": "markdown",
   "metadata": {
    "id": "BbzZqCXLWzuJ"
   },
   "source": [
    "## Gradients"
   ]
  },
  {
   "cell_type": "markdown",
   "metadata": {
    "id": "yBdMI-Xxoazo"
   },
   "source": [
    "4. Calculate the gradient of loss $J(\\theta)$ w.r.t to the model weights.\n",
    "  * $J(\\theta) = \\frac{1}{N} \\sum_i (y_i - \\hat{y}_i)^2  = \\frac{1}{N}\\sum_i (y_i - X_iW)^2 $\n",
    "    * $\\frac{\\partial{J}}{\\partial{W}} = -\\frac{2}{N} \\sum_i (y_i - X_iW) X_i = -\\frac{2}{N} \\sum_i (y_i - \\hat{y}_i) X_i$\n",
    "    * $\\frac{\\partial{J}}{\\partial{b}} = -\\frac{2}{N} \\sum_i (y_i - X_iW)1 = -\\frac{2}{N} \\sum_i (y_i - \\hat{y}_i)1$"
   ]
  },
  {
   "cell_type": "code",
   "execution_count": 1862,
   "metadata": {
    "id": "U5zrZ2j4oPYX"
   },
   "outputs": [],
   "source": [
    "# Backpropagation\n",
    "dW = -(2/N) * np.sum((y_train - y_pred) * X_train)\n",
    "db = -(2/N) * np.sum((y_train - y_pred) * 1)"
   ]
  },
  {
   "cell_type": "markdown",
   "metadata": {
    "id": "_sIznBOQrFtw"
   },
   "source": [
    "> The gradient is the derivative, or the rate of change of a function. It's a vector that points in the direction of greatest increase of a function. For example the gradient of our loss function ($J$) with respect to our weights ($W$) will tell us how to change W so we can maximize $J$. However, we want to minimize our loss so we subtract the gradient from $W$. "
   ]
  },
  {
   "cell_type": "markdown",
   "metadata": {
    "id": "zKyRWE7BXKku"
   },
   "source": [
    "## Update weights"
   ]
  },
  {
   "cell_type": "markdown",
   "metadata": {
    "id": "4Hs2ikYNpSSd"
   },
   "source": [
    "5. Update the weights $W$ using a small learning rate $\\alpha$.\n",
    "  * $W = W - \\alpha\\frac{\\partial{J}}{\\partial{W}}$\n",
    "  * $b = b - \\alpha\\frac{\\partial{J}}{\\partial{b}}$"
   ]
  },
  {
   "cell_type": "code",
   "execution_count": 1863,
   "metadata": {
    "id": "rKuOCcjep3ND"
   },
   "outputs": [],
   "source": [
    "LEARNING_RATE = 1e-1"
   ]
  },
  {
   "cell_type": "code",
   "execution_count": 1864,
   "metadata": {
    "id": "v9E7zB0IoPd0"
   },
   "outputs": [],
   "source": [
    "# Update weights\n",
    "W += -LEARNING_RATE * dW\n",
    "b += -LEARNING_RATE * db"
   ]
  },
  {
   "cell_type": "markdown",
   "metadata": {
    "id": "hYijMGqvpigf"
   },
   "source": [
    "> The learning rate $\\alpha$ is a way to control how much we update the weights by. If we choose a small learning rate, it may take a long time for our model to train. However, if we choose a large learning rate, we may overshoot and our training will never converge. The specific learning rate depends on our data and the type of models we use but it's typically good to explore in the range of $[1e^{-8}, 1e^{-1}]$. We'll explore learning rate update strategies in later lessons."
   ]
  },
  {
   "cell_type": "markdown",
   "metadata": {
    "id": "rRiMWUARXBM4"
   },
   "source": [
    "## Training"
   ]
  },
  {
   "cell_type": "markdown",
   "metadata": {
    "id": "745G2w_rrBZl"
   },
   "source": [
    "6. Repeat steps 2 - 5 to minimize the loss and train the model."
   ]
  },
  {
   "cell_type": "code",
   "execution_count": 1865,
   "metadata": {
    "id": "-QpmeHBhrIQI"
   },
   "outputs": [],
   "source": [
    "NUM_EPOCHS = 100"
   ]
  },
  {
   "cell_type": "code",
   "execution_count": 1866,
   "metadata": {},
   "outputs": [],
   "source": [
    "def gd():\n",
    "    # Initialize random weights\n",
    "    W = 0.01 * np.random.randn(INPUT_DIM, OUTPUT_DIM)\n",
    "    b = np.zeros((1, ))\n",
    "\n",
    "    # gradient descent\n",
    "    # Training loop\n",
    "    for epoch_num in range(NUM_EPOCHS):\n",
    "        # Forward pass [NX1] · [1X1] = [NX1]\n",
    "        y_pred = np.dot(X_train, W) + b\n",
    "\n",
    "        # Loss\n",
    "        loss = (1/len(y_train)) * np.sum((y_train - y_pred)**2)\n",
    "\n",
    "        # Show progress\n",
    "        if epoch_num%10 == 0:\n",
    "            print (f\"Epoch: {epoch_num}, loss: {loss:.3f}\")\n",
    "\n",
    "        # Backpropagation\n",
    "        dW = -(2/N) * np.sum((y_train - y_pred) * X_train)\n",
    "        db = -(2/N) * np.sum((y_train - y_pred) * 1)\n",
    "\n",
    "        # Update weights\n",
    "        W += -LEARNING_RATE * dW\n",
    "        b += -LEARNING_RATE * db\n",
    "\n",
    "    return W, b\n",
    "\n"
   ]
  },
  {
   "cell_type": "code",
   "execution_count": 1867,
   "metadata": {},
   "outputs": [],
   "source": [
    "def sgd():\n",
    "    # Initialize random weights\n",
    "    W = 0.01 * np.random.randn(INPUT_DIM, OUTPUT_DIM)\n",
    "    b = np.zeros((1, ))\n",
    "\n",
    "    # stochastic gradient descent\n",
    "    # Training loop\n",
    "    batch_size = 20\n",
    "    train_xy = np.append(X_train, y_train, axis=1)\n",
    "\n",
    "\n",
    "    for epoch_num in range(NUM_EPOCHS):\n",
    "        # shuffle\n",
    "        np.random.shuffle(train_xy)\n",
    "\n",
    "        for start in range(0, N, batch_size):\n",
    "            stop = start + int(batch_size / 2)\n",
    "            # print(f'{start}, {stop}, {batch_size}')\n",
    "            x_batch, y_batch = train_xy[start:stop, :-1], train_xy[start:stop, -1:]\n",
    "            #x_batch, y_batch = X_train[start:stop], y_train[start:stop]\n",
    "\n",
    "\n",
    "            y_pred = np.dot(x_batch, W) + b\n",
    "            loss = (1 / len(y_batch)) * np.sum((y_batch - y_pred) ** 2)\n",
    "\n",
    "            dW = -(2 / batch_size) * np.sum((y_batch - y_pred) * x_batch)\n",
    "            db = -(2 / batch_size) * np.sum((y_batch - y_pred) * 1)\n",
    "\n",
    "            # Update weights\n",
    "            W += -LEARNING_RATE * dW\n",
    "            b += -LEARNING_RATE * db\n",
    "        # Show progress\n",
    "        if epoch_num % 10 == 0:\n",
    "            print (f\"Epoch: {epoch_num}, loss: {loss:.3f}\")\n",
    "\n",
    "    return W, b\n"
   ]
  },
  {
   "cell_type": "code",
   "execution_count": 1868,
   "metadata": {},
   "outputs": [],
   "source": [
    "def sgd_momentum(decay_rate=0.0):\n",
    "    # Initialize random weights\n",
    "    W = 0.01 * np.random.randn(INPUT_DIM, OUTPUT_DIM)\n",
    "    b = np.zeros((1, ))\n",
    "\n",
    "    # stochastic gradient descent\n",
    "    # Training loop\n",
    "    batch_size = 10\n",
    "    train_xy = np.append(X_train, y_train, axis=1)\n",
    "\n",
    "\n",
    "    for epoch_num in range(NUM_EPOCHS):\n",
    "        # shuffle\n",
    "        np.random.shuffle(train_xy)\n",
    "\n",
    "        for start in range(0, N, batch_size):\n",
    "            stop = start + batch_size\n",
    "            # print(f'{start}, {stop}, {batch_size}')\n",
    "            x_batch, y_batch = train_xy[start:stop, :-1], train_xy[start:stop, -1:]\n",
    "            #x_batch, y_batch = X_train[start:stop], y_train[start:stop]\n",
    "\n",
    "\n",
    "            y_pred = np.dot(x_batch, W) + b\n",
    "            loss = (1 / len(y_batch)) * np.sum((y_batch - y_pred) ** 2)\n",
    "\n",
    "            dW = -(2 / batch_size) * np.sum((y_batch - y_pred) * x_batch)\n",
    "            db = -(2 / batch_size) * np.sum((y_batch - y_pred) * 1)\n",
    "\n",
    "            # Update weights\n",
    "            W += decay_rate * dW - LEARNING_RATE * dW\n",
    "            b += decay_rate * db - LEARNING_RATE * db\n",
    "        # Show progress\n",
    "        if epoch_num % 10 == 0:\n",
    "            print (f\"Epoch: {epoch_num}, loss: {loss:.3f}\")\n",
    "\n",
    "    return W, b"
   ]
  },
  {
   "cell_type": "markdown",
   "metadata": {
    "id": "emgsY5TJXZ7R"
   },
   "source": [
    "## Evaluation"
   ]
  },
  {
   "cell_type": "code",
   "execution_count": 1869,
   "metadata": {
    "colab": {
     "base_uri": "https://localhost:8080/",
     "height": 298
    },
    "executionInfo": {
     "elapsed": 2071,
     "status": "ok",
     "timestamp": 1608003287560,
     "user": {
      "displayName": "Goku Mohandas",
      "photoUrl": "https://lh3.googleusercontent.com/a-/AOh14GjMIOf3R_zwS_zZx4ZyPMtQe0lOkGpPOEUEKWpM7g=s64",
      "userId": "00378334517810298963"
     },
     "user_tz": 420
    },
    "id": "59OcpgFArYw_",
    "outputId": "72ddc42d-02ef-4c40-987a-d49a1ee6f81b"
   },
   "outputs": [
    {
     "name": "stdout",
     "output_type": "stream",
     "text": [
      "Gradient descent\n",
      "Epoch: 0, loss: 0.965\n",
      "Epoch: 10, loss: 0.040\n",
      "Epoch: 20, loss: 0.029\n",
      "Epoch: 30, loss: 0.029\n",
      "Epoch: 40, loss: 0.029\n",
      "Epoch: 50, loss: 0.029\n",
      "Epoch: 60, loss: 0.029\n",
      "Epoch: 70, loss: 0.029\n",
      "Epoch: 80, loss: 0.029\n",
      "Epoch: 90, loss: 0.029\n",
      "W: [[0.98550273]]; b: [-5.96348368e-17];\n",
      "train_MSE: 0.03, test_MSE: 0.03\n"
     ]
    },
    {
     "data": {
      "image/png": "[encoded data removed]",
      "text/plain": [
       "<Figure size 1080x360 with 2 Axes>"
      ]
     },
     "metadata": {
      "needs_background": "light"
     },
     "output_type": "display_data"
    },
    {
     "name": "stdout",
     "output_type": "stream",
     "text": [
      "Stochastic gradient descent\n",
      "Epoch: 0, loss: 0.073\n",
      "Epoch: 10, loss: 0.035\n",
      "Epoch: 20, loss: 0.036\n",
      "Epoch: 30, loss: 0.017\n",
      "Epoch: 40, loss: 0.028\n",
      "Epoch: 50, loss: 0.026\n",
      "Epoch: 60, loss: 0.042\n",
      "Epoch: 70, loss: 0.010\n",
      "Epoch: 80, loss: 0.045\n",
      "Epoch: 90, loss: 0.014\n",
      "W: [[0.98173717]]; b: [-0.00522058];\n",
      "train_MSE: 0.03, test_MSE: 0.03\n"
     ]
    },
    {
     "data": {
      "image/png": "[encoded data removed]",
      "text/plain": [
       "<Figure size 1080x360 with 2 Axes>"
      ]
     },
     "metadata": {
      "needs_background": "light"
     },
     "output_type": "display_data"
    },
    {
     "name": "stdout",
     "output_type": "stream",
     "text": [
      "Stochastic gradient descent with momentum\n",
      "Epoch: 0, loss: 0.026\n",
      "Epoch: 10, loss: 0.036\n",
      "Epoch: 20, loss: 0.023\n",
      "Epoch: 30, loss: 0.021\n",
      "Epoch: 40, loss: 0.033\n",
      "Epoch: 50, loss: 0.042\n",
      "Epoch: 60, loss: 0.023\n",
      "Epoch: 70, loss: 0.036\n",
      "Epoch: 80, loss: 0.031\n",
      "Epoch: 90, loss: 0.048\n",
      "W: [[1.0025349]]; b: [0.02767564];\n",
      "train_MSE: 0.03, test_MSE: 0.03\n"
     ]
    },
    {
     "data": {
      "image/png": "[encoded data removed]",
      "text/plain": [
       "<Figure size 1080x360 with 2 Axes>"
      ]
     },
     "metadata": {
      "needs_background": "light"
     },
     "output_type": "display_data"
    }
   ],
   "source": [
    "def evaluation(W, b):\n",
    "    print(f'W: {W}; b: {b};')\n",
    "    # Predictions \n",
    "    pred_train = W * X_train + b\n",
    "    pred_test = W * X_test + b\n",
    "\n",
    "    # Train and test MSE\n",
    "    train_mse = np.mean((y_train - pred_train) ** 2)\n",
    "    test_mse = np.mean((y_test - pred_test) ** 2)\n",
    "    print (f\"train_MSE: {train_mse:.2f}, test_MSE: {test_mse:.2f}\")\n",
    "\n",
    "    # Figure size\n",
    "    plt.figure(figsize=(15,5))\n",
    "\n",
    "    # Plot train data\n",
    "    plt.subplot(1, 2, 1)\n",
    "    plt.title(\"Train\")\n",
    "    plt.scatter(X_train, y_train, label=\"y_train\")\n",
    "    plt.plot(X_train, pred_train, color=\"red\", linewidth=1, linestyle=\"-\", label=\"model\")\n",
    "    plt.legend(loc=\"lower right\")\n",
    "\n",
    "    # Plot test data\n",
    "    plt.subplot(1, 2, 2)\n",
    "    plt.title(\"Test\")\n",
    "    plt.scatter(X_test, y_test, label='y_test')\n",
    "    plt.plot(X_test, pred_test, color=\"red\", linewidth=1, linestyle=\"-\", label=\"model\")\n",
    "    plt.legend(loc=\"lower right\")\n",
    "\n",
    "    # Show plots\n",
    "    plt.show()\n",
    "\n",
    "print('Gradient descent')\n",
    "W, b = gd()\n",
    "evaluation(W, b)\n",
    "\n",
    "print('Stochastic gradient descent')\n",
    "W, b = sgd()\n",
    "evaluation(W, b)\n",
    "\n",
    "print('Stochastic gradient descent with momentum')\n",
    "W, b = sgd_momentum(0.01)\n",
    "evaluation(W, b)\n",
    "\n"
   ]
  },
  {
   "cell_type": "markdown",
   "metadata": {
    "id": "a2oKRRjlXoDA"
   },
   "source": [
    "## Interpretability"
   ]
  },
  {
   "cell_type": "markdown",
   "metadata": {
    "id": "83DaPyLrrqmE"
   },
   "source": [
    "Since we standardized our inputs and outputs, our weights were fit to those normalazed values. So we need to unnormlize our weights so we can compare it to our true weight (3.5).\n",
    "\n",
    "Note that both X and y were normalized.\n",
    "\n",
    "$\\hat{y}_{scaled} = b_{scaled} + \\sum_{j=1}^{k}W_{{scaled}_j}x_{{scaled}_j}$\n",
    "* $y_{scaled} = \\frac{\\hat{y} - \\bar{y}}{\\sigma_y}$\n",
    "* $x_{scaled} = \\frac{x_j - \\bar{x}_j}{\\sigma_j}$\n",
    "\n",
    "$\\frac{\\hat{y} - \\bar{y}}{\\sigma_y} = b_{scaled} + \\sum_{j=1}^{k}W_{{scaled}_j}\\frac{x_j - \\bar{x}_j}{\\sigma_j}$\n",
    "\n",
    "$ \\hat{y}_{scaled} = \\frac{\\hat{y}_{unscaled} - \\bar{y}}{\\sigma_y} = {b_{scaled}} + \\sum_{j=1}^{k} {W}_{{scaled}_j} (\\frac{x_j - \\bar{x}_j}{\\sigma_j}) $\n",
    "\n",
    "$\\hat{y}_{unscaled} = b_{scaled}\\sigma_y + \\bar{y} - \\sum_{j=1}^{k} {W}_{{scaled}_j}(\\frac{\\sigma_y}{\\sigma_j})\\bar{x}_j + \\sum_{j=1}^{k}{W}_{{scaled}_j}(\\frac{\\sigma_y}{\\sigma_j})x_j $\n",
    "\n",
    "In the expression above, we can see the expression $\\hat{y}_{unscaled} = W_{unscaled}x + b_{unscaled} $ where\n",
    "\n",
    "* $W_{unscaled} = \\sum_{j=1}^{k}{W}_j(\\frac{\\sigma_y}{\\sigma_j}) $\n",
    "\n",
    "* $b_{unscaled} = b_{scaled}\\sigma_y + \\bar{y} - \\sum_{j=1}^{k} {W}_j(\\frac{\\sigma_y}{\\sigma_j})\\bar{x}_j$"
   ]
  },
  {
   "cell_type": "code",
   "execution_count": 1870,
   "metadata": {
    "colab": {
     "base_uri": "https://localhost:8080/"
    },
    "executionInfo": {
     "elapsed": 2039,
     "status": "ok",
     "timestamp": 1608003287561,
     "user": {
      "displayName": "Goku Mohandas",
      "photoUrl": "https://lh3.googleusercontent.com/a-/AOh14GjMIOf3R_zwS_zZx4ZyPMtQe0lOkGpPOEUEKWpM7g=s64",
      "userId": "00378334517810298963"
     },
     "user_tz": 420
    },
    "id": "uROsFZxYrZYu",
    "outputId": "f023ded0-3c54-400b-e18b-aaa3dc13ce52"
   },
   "outputs": [
    {
     "name": "stdout",
     "output_type": "stream",
     "text": [
      "[actual] y = 3.5X + noise\n",
      "[model] y_hat = 3.5X + 2.1\n"
     ]
    }
   ],
   "source": [
    "# Unscaled weights\n",
    "W_unscaled = W * (y_std/X_std)\n",
    "b_unscaled = b * y_std + y_mean - np.sum(W_unscaled*X_mean)\n",
    "print (\"[actual] y = 3.5X + noise\")\n",
    "print (f\"[model] y_hat = {W_unscaled[0][0]:.1f}X + {b_unscaled[0]:.1f}\") "
   ]
  },
  {
   "cell_type": "markdown",
   "metadata": {
    "id": "6nAJqYIwrxLW"
   },
   "source": [
    "# PyTorch"
   ]
  },
  {
   "cell_type": "markdown",
   "metadata": {
    "id": "FP6JKnmtrzIK"
   },
   "source": [
    "Now that we've implemented linear regression with Numpy, let's do the same with PyTorch. "
   ]
  },
  {
   "cell_type": "code",
   "execution_count": 1871,
   "metadata": {
    "id": "F0B3KaLNZPAn"
   },
   "outputs": [],
   "source": [
    "import torch"
   ]
  },
  {
   "cell_type": "code",
   "execution_count": 1872,
   "metadata": {
    "colab": {
     "base_uri": "https://localhost:8080/"
    },
    "executionInfo": {
     "elapsed": 4126,
     "status": "ok",
     "timestamp": 1608003289684,
     "user": {
      "displayName": "Goku Mohandas",
      "photoUrl": "https://lh3.googleusercontent.com/a-/AOh14GjMIOf3R_zwS_zZx4ZyPMtQe0lOkGpPOEUEKWpM7g=s64",
      "userId": "00378334517810298963"
     },
     "user_tz": 420
    },
    "id": "jgAyIZlTxFkX",
    "outputId": "b060e3d8-1c68-4c80-936a-ed956103b435"
   },
   "outputs": [
    {
     "data": {
      "text/plain": [
       "<torch._C.Generator at 0x12e402af0>"
      ]
     },
     "execution_count": 1872,
     "metadata": {},
     "output_type": "execute_result"
    }
   ],
   "source": [
    "# Set seed for reproducibility\n",
    "torch.manual_seed(SEED)"
   ]
  },
  {
   "cell_type": "markdown",
   "metadata": {
    "id": "zNJFgUY0hcDZ"
   },
   "source": [
    "## Split data"
   ]
  },
  {
   "cell_type": "markdown",
   "metadata": {
    "id": "ASzn8LT2Xwb2"
   },
   "source": [
    "This time, instead of splitting data using indices, let's use scikit-learn's built in [`train_test_split`](https://scikit-learn.org/stable/modules/generated/sklearn.model_selection.train_test_split.html#sklearn.model_selection.train_test_split) function. This function will split a given dataset into two subsets so we'll use this function twice to create our three data splits."
   ]
  },
  {
   "cell_type": "code",
   "execution_count": 1873,
   "metadata": {
    "id": "WqcmdgEChtXI"
   },
   "outputs": [],
   "source": [
    "from sklearn.model_selection import train_test_split"
   ]
  },
  {
   "cell_type": "code",
   "execution_count": 1874,
   "metadata": {
    "id": "mU9AYWbzh4JQ"
   },
   "outputs": [],
   "source": [
    "TRAIN_SIZE = 0.7\n",
    "VAL_SIZE = 0.15\n",
    "TEST_SIZE = 0.15"
   ]
  },
  {
   "cell_type": "code",
   "execution_count": 1875,
   "metadata": {
    "id": "xtLx53hQhCp7"
   },
   "outputs": [],
   "source": [
    "# Split (train)\n",
    "X_train, X_, y_train, y_ = train_test_split(X, y, train_size=TRAIN_SIZE)"
   ]
  },
  {
   "cell_type": "code",
   "execution_count": 1876,
   "metadata": {
    "colab": {
     "base_uri": "https://localhost:8080/"
    },
    "executionInfo": {
     "elapsed": 529,
     "status": "ok",
     "timestamp": 1608003330126,
     "user": {
      "displayName": "Goku Mohandas",
      "photoUrl": "https://lh3.googleusercontent.com/a-/AOh14GjMIOf3R_zwS_zZx4ZyPMtQe0lOkGpPOEUEKWpM7g=s64",
      "userId": "00378334517810298963"
     },
     "user_tz": 420
    },
    "id": "0qtXS7BmdsBX",
    "outputId": "b6ffb5bd-ea52-4021-a086-5135f8b8e41c"
   },
   "outputs": [
    {
     "name": "stdout",
     "output_type": "stream",
     "text": [
      "train: 350 (0.70)\n",
      "remaining: 150 (0.30)\n"
     ]
    }
   ],
   "source": [
    "print (f\"train: {len(X_train)} ({(len(X_train) / len(X)):.2f})\\n\"\n",
    "       f\"remaining: {len(X_)} ({(len(X_) / len(X)):.2f})\")"
   ]
  },
  {
   "cell_type": "code",
   "execution_count": 1877,
   "metadata": {
    "id": "lVTDrQAEdsG1"
   },
   "outputs": [],
   "source": [
    "# Split (test)\n",
    "X_val, X_test, y_val, y_test = train_test_split(\n",
    "    X_, y_, train_size=0.5)"
   ]
  },
  {
   "cell_type": "code",
   "execution_count": 1878,
   "metadata": {
    "colab": {
     "base_uri": "https://localhost:8080/"
    },
    "executionInfo": {
     "elapsed": 685,
     "status": "ok",
     "timestamp": 1608003331155,
     "user": {
      "displayName": "Goku Mohandas",
      "photoUrl": "https://lh3.googleusercontent.com/a-/AOh14GjMIOf3R_zwS_zZx4ZyPMtQe0lOkGpPOEUEKWpM7g=s64",
      "userId": "00378334517810298963"
     },
     "user_tz": 420
    },
    "id": "xSBiEwWCdsLW",
    "outputId": "2eaf2456-5a70-4f71-80e5-c02fb3c83a22"
   },
   "outputs": [
    {
     "name": "stdout",
     "output_type": "stream",
     "text": [
      "train: 350 (0.70)\n",
      "val: 75 (0.15)\n",
      "test: 75 (0.15)\n"
     ]
    }
   ],
   "source": [
    "print(f\"train: {len(X_train)} ({len(X_train)/len(X):.2f})\\n\"\n",
    "      f\"val: {len(X_val)} ({len(X_val)/len(X):.2f})\\n\"\n",
    "      f\"test: {len(X_test)} ({len(X_test)/len(X):.2f})\")"
   ]
  },
  {
   "cell_type": "markdown",
   "metadata": {
    "id": "8LSpLJkgkVRn"
   },
   "source": [
    "## Normalize data"
   ]
  },
  {
   "cell_type": "markdown",
   "metadata": {
    "id": "mM9C5xIeT5C8"
   },
   "source": [
    "We can also use scikit learn to do [preprocessing and normalization](https://scikit-learn.org/stable/modules/classes.html#module-sklearn.preprocessing). "
   ]
  },
  {
   "cell_type": "code",
   "execution_count": 1879,
   "metadata": {
    "id": "o-8Ii-JwkVWC"
   },
   "outputs": [],
   "source": [
    "from sklearn.preprocessing import StandardScaler"
   ]
  },
  {
   "cell_type": "code",
   "execution_count": 1880,
   "metadata": {
    "id": "M9FOu9-kkVeh"
   },
   "outputs": [],
   "source": [
    "# Standardize the data (mean=0, std=1) using training data\n",
    "X_scaler = StandardScaler().fit(X_train)\n",
    "y_scaler = StandardScaler().fit(y_train)"
   ]
  },
  {
   "cell_type": "code",
   "execution_count": 1881,
   "metadata": {
    "id": "YNWqEGsYkViI"
   },
   "outputs": [],
   "source": [
    "# Apply scaler on training and test data\n",
    "X_train = X_scaler.transform(X_train)\n",
    "y_train = y_scaler.transform(y_train).ravel().reshape(-1, 1)\n",
    "X_val = X_scaler.transform(X_val)\n",
    "y_val = y_scaler.transform(y_val).ravel().reshape(-1, 1)\n",
    "X_test = X_scaler.transform(X_test)\n",
    "y_test = y_scaler.transform(y_test).ravel().reshape(-1, 1)"
   ]
  },
  {
   "cell_type": "code",
   "execution_count": 1882,
   "metadata": {
    "colab": {
     "base_uri": "https://localhost:8080/"
    },
    "executionInfo": {
     "elapsed": 571,
     "status": "ok",
     "timestamp": 1608003897375,
     "user": {
      "displayName": "Goku Mohandas",
      "photoUrl": "https://lh3.googleusercontent.com/a-/AOh14GjMIOf3R_zwS_zZx4ZyPMtQe0lOkGpPOEUEKWpM7g=s64",
      "userId": "00378334517810298963"
     },
     "user_tz": 420
    },
    "id": "aSAH9M4UnDAm",
    "outputId": "219b7bae-29fb-4699-9c17-80e0a0415dd1"
   },
   "outputs": [
    {
     "name": "stdout",
     "output_type": "stream",
     "text": [
      "mean: -0.2, std: 1.0\n",
      "mean: -0.2, std: 1.0\n"
     ]
    }
   ],
   "source": [
    "# Check (means should be ~0 and std should be ~1)\n",
    "print (f\"mean: {np.mean(X_test, axis=0)[0]:.1f}, std: {np.std(X_test, axis=0)[0]:.1f}\")\n",
    "print (f\"mean: {np.mean(y_test, axis=0)[0]:.1f}, std: {np.std(y_test, axis=0)[0]:.1f}\")"
   ]
  },
  {
   "cell_type": "markdown",
   "metadata": {
    "id": "X3u7SbMfbqd9"
   },
   "source": [
    "## Weights"
   ]
  },
  {
   "cell_type": "markdown",
   "metadata": {
    "id": "S7FufaY1bzZA"
   },
   "source": [
    "We will be using [Linear layers](https://pytorch.org/docs/stable/nn.html#linear-layers) in our MLP implementation. These layers will act as our weights (and biases).\n",
    "\n",
    "$ z = XW $ "
   ]
  },
  {
   "cell_type": "code",
   "execution_count": 1883,
   "metadata": {
    "id": "WLyU8Y5ZrZl5"
   },
   "outputs": [],
   "source": [
    "from torch import nn"
   ]
  },
  {
   "cell_type": "code",
   "execution_count": 1884,
   "metadata": {
    "colab": {
     "base_uri": "https://localhost:8080/"
    },
    "executionInfo": {
     "elapsed": 802,
     "status": "ok",
     "timestamp": 1608003901358,
     "user": {
      "displayName": "Goku Mohandas",
      "photoUrl": "https://lh3.googleusercontent.com/a-/AOh14GjMIOf3R_zwS_zZx4ZyPMtQe0lOkGpPOEUEKWpM7g=s64",
      "userId": "00378334517810298963"
     },
     "user_tz": 420
    },
    "id": "7c-gJ6BgrZjk",
    "outputId": "d9846b63-bc0b-4a89-d93d-6253e7f9fa06"
   },
   "outputs": [
    {
     "name": "stdout",
     "output_type": "stream",
     "text": [
      "torch.Size([3, 1])\n",
      "[[ 0.04613046]\n",
      " [ 0.40240282]\n",
      " [-1.0115291 ]]\n"
     ]
    }
   ],
   "source": [
    "# Inputs\n",
    "N = 3 # num samples\n",
    "x = torch.randn(N, INPUT_DIM)\n",
    "print (x.shape)\n",
    "print (x.numpy())"
   ]
  },
  {
   "cell_type": "code",
   "execution_count": 1885,
   "metadata": {
    "colab": {
     "base_uri": "https://localhost:8080/"
    },
    "executionInfo": {
     "elapsed": 492,
     "status": "ok",
     "timestamp": 1608003903502,
     "user": {
      "displayName": "Goku Mohandas",
      "photoUrl": "https://lh3.googleusercontent.com/a-/AOh14GjMIOf3R_zwS_zZx4ZyPMtQe0lOkGpPOEUEKWpM7g=s64",
      "userId": "00378334517810298963"
     },
     "user_tz": 420
    },
    "id": "fFQcVwOrhdhN",
    "outputId": "ba3b94c9-0eba-4a48-e095-5555fc5835f4"
   },
   "outputs": [
    {
     "name": "stdout",
     "output_type": "stream",
     "text": [
      "Linear(in_features=1, out_features=1, bias=True)\n",
      "weights (torch.Size([1, 1])): 0.35\n",
      "bias (torch.Size([1])): -0.34\n"
     ]
    }
   ],
   "source": [
    "# Weights\n",
    "m = nn.Linear(INPUT_DIM, OUTPUT_DIM)\n",
    "print (m)\n",
    "print (f\"weights ({m.weight.shape}): {m.weight[0][0]:.2f}\")\n",
    "print (f\"bias ({m.bias.shape}): {m.bias[0]:.2f}\")"
   ]
  },
  {
   "cell_type": "code",
   "execution_count": 1886,
   "metadata": {
    "colab": {
     "base_uri": "https://localhost:8080/"
    },
    "executionInfo": {
     "elapsed": 568,
     "status": "ok",
     "timestamp": 1608004204332,
     "user": {
      "displayName": "Goku Mohandas",
      "photoUrl": "https://lh3.googleusercontent.com/a-/AOh14GjMIOf3R_zwS_zZx4ZyPMtQe0lOkGpPOEUEKWpM7g=s64",
      "userId": "00378334517810298963"
     },
     "user_tz": 420
    },
    "id": "1dvWqTqMhdm0",
    "outputId": "b16107d4-5f10-4485-a7c0-a7bf521a8793"
   },
   "outputs": [
    {
     "name": "stdout",
     "output_type": "stream",
     "text": [
      "torch.Size([3, 1])\n",
      "[[-0.32104054]\n",
      " [-0.19719592]\n",
      " [-0.68869597]]\n"
     ]
    }
   ],
   "source": [
    "# Forward pass\n",
    "z = m(x) \n",
    "print (z.shape)\n",
    "print (z.detach().numpy())"
   ]
  },
  {
   "cell_type": "markdown",
   "metadata": {
    "id": "t2j5_5SopsRF"
   },
   "source": [
    "## Model"
   ]
  },
  {
   "cell_type": "markdown",
   "metadata": {
    "id": "phjJCXREb5hG"
   },
   "source": [
    "Our goal is to learn a linear model $\\hat{y}$ that models $y$ given $X$. \n",
    "\n",
    "$\\hat{y} = XW + b$\n",
    "* $\\hat{y}$ = predictions | $\\in \\mathbb{R}^{NX1}$ ($N$ is the number of samples)\n",
    "* $X$ = inputs | $\\in \\mathbb{R}^{NXD}$ ($D$ is the number of features)\n",
    "* $W$ = weights | $\\in \\mathbb{R}^{DX1}$ \n",
    "* $b$ = bias | $\\in \\mathbb{R}^{1}$ "
   ]
  },
  {
   "cell_type": "code",
   "execution_count": 1887,
   "metadata": {
    "id": "Ds-jhvIhK4t6"
   },
   "outputs": [],
   "source": [
    "from torchsummary import summary"
   ]
  },
  {
   "cell_type": "code",
   "execution_count": 1888,
   "metadata": {
    "id": "cBQtSQIorZiB"
   },
   "outputs": [],
   "source": [
    "class LinearRegression(nn.Module):\n",
    "    def __init__(self, input_dim, output_dim):\n",
    "        super(LinearRegression, self).__init__()\n",
    "        self.fc1 = nn.Linear(input_dim, output_dim)\n",
    "        \n",
    "    def forward(self, x_in):\n",
    "        y_pred = self.fc1(x_in)\n",
    "        return y_pred"
   ]
  },
  {
   "cell_type": "code",
   "execution_count": 1889,
   "metadata": {
    "colab": {
     "base_uri": "https://localhost:8080/"
    },
    "executionInfo": {
     "elapsed": 567,
     "status": "ok",
     "timestamp": 1608004226909,
     "user": {
      "displayName": "Goku Mohandas",
      "photoUrl": "https://lh3.googleusercontent.com/a-/AOh14GjMIOf3R_zwS_zZx4ZyPMtQe0lOkGpPOEUEKWpM7g=s64",
      "userId": "00378334517810298963"
     },
     "user_tz": 420
    },
    "id": "0U7wD5a6VSZ8",
    "outputId": "40c65f03-ab0b-4836-d213-fab57d310453"
   },
   "outputs": [
    {
     "name": "stdout",
     "output_type": "stream",
     "text": [
      "<bound method Module.named_parameters of LinearRegression(\n",
      "  (fc1): Linear(in_features=1, out_features=1, bias=True)\n",
      ")>\n"
     ]
    }
   ],
   "source": [
    "# Initialize model\n",
    "model = LinearRegression(input_dim=INPUT_DIM, output_dim=OUTPUT_DIM)\n",
    "print (model.named_parameters)"
   ]
  },
  {
   "cell_type": "markdown",
   "metadata": {
    "id": "pYKh54SKoma8"
   },
   "source": [
    "## Loss"
   ]
  },
  {
   "cell_type": "markdown",
   "metadata": {
    "id": "u9tf1RkLh5xT"
   },
   "source": [
    "This time we're using PyTorch's [loss functions](https://pytorch.org/docs/stable/nn.html#loss-functions), specifically [`MSELoss`](https://pytorch.org/docs/stable/generated/torch.nn.MSELoss.html#torch.nn.MSELoss)."
   ]
  },
  {
   "cell_type": "code",
   "execution_count": 1890,
   "metadata": {
    "colab": {
     "base_uri": "https://localhost:8080/"
    },
    "executionInfo": {
     "elapsed": 5892,
     "status": "ok",
     "timestamp": 1607985452066,
     "user": {
      "displayName": "Goku Mohandas",
      "photoUrl": "https://lh3.googleusercontent.com/a-/AOh14GjMIOf3R_zwS_zZx4ZyPMtQe0lOkGpPOEUEKWpM7g=s64",
      "userId": "00378334517810298963"
     },
     "user_tz": 420
    },
    "id": "gesdrs3Vo0nq",
    "outputId": "de3b4965-9019-4b2b-a25e-995e154690ee"
   },
   "outputs": [
    {
     "name": "stdout",
     "output_type": "stream",
     "text": [
      "Loss:  0.75\n"
     ]
    }
   ],
   "source": [
    "loss_fn = nn.MSELoss()\n",
    "y_pred = torch.Tensor([0., 0., 1., 1.])\n",
    "y_true =  torch.Tensor([1., 1., 1., 0.])\n",
    "loss = loss_fn(y_pred, y_true)\n",
    "print(\"Loss: \", loss.numpy())"
   ]
  },
  {
   "cell_type": "markdown",
   "metadata": {
    "id": "mctyzTveoegu"
   },
   "source": [
    "## Optimizer"
   ]
  },
  {
   "cell_type": "markdown",
   "metadata": {
    "id": "PZ6IZ5pYcl1a"
   },
   "source": [
    "When we implemented linear regression with just NumPy, we used batch gradient descent to update our weights. But there are actually many different gradient descent [optimization algorithms](https://pytorch.org/docs/stable/optim.html) to choose from and it depends on the situation. However, the [ADAM optimizer](https://pytorch.org/docs/stable/optim.html#torch.optim.Adam) has become a standard algorithm for most cases. "
   ]
  },
  {
   "cell_type": "code",
   "execution_count": 1891,
   "metadata": {
    "id": "ViOE7L5RdRgX"
   },
   "outputs": [],
   "source": [
    "from torch.optim import Adam"
   ]
  },
  {
   "cell_type": "code",
   "execution_count": 1892,
   "metadata": {
    "id": "8EviGS0ldLvN"
   },
   "outputs": [],
   "source": [
    "# Optimizer\n",
    "optimizer = Adam(model.parameters(), lr=LEARNING_RATE) "
   ]
  },
  {
   "cell_type": "markdown",
   "metadata": {
    "id": "nXbZVkMAyIpL"
   },
   "source": [
    "## Training"
   ]
  },
  {
   "cell_type": "code",
   "execution_count": 1893,
   "metadata": {
    "id": "O6zoQ-fOghLM"
   },
   "outputs": [],
   "source": [
    "# Convert data to tensors\n",
    "X_train = torch.Tensor(X_train)\n",
    "y_train = torch.Tensor(y_train)\n",
    "X_val = torch.Tensor(X_val)\n",
    "y_val = torch.Tensor(y_val)\n",
    "X_test = torch.Tensor(X_test)\n",
    "y_test = torch.Tensor(y_test)"
   ]
  },
  {
   "cell_type": "code",
   "execution_count": 1894,
   "metadata": {
    "colab": {
     "base_uri": "https://localhost:8080/"
    },
    "executionInfo": {
     "elapsed": 6074,
     "status": "ok",
     "timestamp": 1607985452292,
     "user": {
      "displayName": "Goku Mohandas",
      "photoUrl": "https://lh3.googleusercontent.com/a-/AOh14GjMIOf3R_zwS_zZx4ZyPMtQe0lOkGpPOEUEKWpM7g=s64",
      "userId": "00378334517810298963"
     },
     "user_tz": 420
    },
    "id": "1xwV9WvBhVaF",
    "outputId": "c93c2b41-3d65-4a14-c7c0-396274f22eee"
   },
   "outputs": [
    {
     "name": "stdout",
     "output_type": "stream",
     "text": [
      "Epoch: 0 | loss: 0.22\n",
      "Epoch: 20 | loss: 0.04\n",
      "Epoch: 40 | loss: 0.03\n",
      "Epoch: 60 | loss: 0.03\n",
      "Epoch: 80 | loss: 0.03\n"
     ]
    }
   ],
   "source": [
    "# Training\n",
    "for epoch in range(NUM_EPOCHS):\n",
    "    # Forward pass\n",
    "    y_pred = model(X_train)\n",
    "\n",
    "    # Loss\n",
    "    loss = loss_fn(y_pred, y_train)\n",
    "\n",
    "    # Zero all gradients\n",
    "    optimizer.zero_grad()\n",
    "\n",
    "    # Backward pass\n",
    "    loss.backward()\n",
    "\n",
    "    # Update weights\n",
    "    optimizer.step()\n",
    "\n",
    "    if epoch%20==0: \n",
    "        print (f\"Epoch: {epoch} | loss: {loss:.2f}\")"
   ]
  },
  {
   "cell_type": "markdown",
   "metadata": {
    "id": "vj7cpeCsi6tf"
   },
   "source": [
    "## Evaluation"
   ]
  },
  {
   "cell_type": "markdown",
   "metadata": {
    "id": "P8yqeV40mHsZ"
   },
   "source": [
    "Now we're ready to evaluate our trained model."
   ]
  },
  {
   "cell_type": "code",
   "execution_count": 1895,
   "metadata": {
    "id": "LeQm-H2vi6A7"
   },
   "outputs": [],
   "source": [
    "# Predictions\n",
    "pred_train = model(X_train)\n",
    "pred_test = model(X_test)"
   ]
  },
  {
   "cell_type": "code",
   "execution_count": 1896,
   "metadata": {
    "colab": {
     "base_uri": "https://localhost:8080/"
    },
    "executionInfo": {
     "elapsed": 6054,
     "status": "ok",
     "timestamp": 1607985452295,
     "user": {
      "displayName": "Goku Mohandas",
      "photoUrl": "https://lh3.googleusercontent.com/a-/AOh14GjMIOf3R_zwS_zZx4ZyPMtQe0lOkGpPOEUEKWpM7g=s64",
      "userId": "00378334517810298963"
     },
     "user_tz": 420
    },
    "id": "dnW9b7ZQkA2l",
    "outputId": "c98a4b96-c91a-4a7b-f21a-611dd6d1a3b9"
   },
   "outputs": [
    {
     "name": "stdout",
     "output_type": "stream",
     "text": [
      "train_error: 0.03\n",
      "test_error: 0.03\n"
     ]
    }
   ],
   "source": [
    "# Performance\n",
    "train_error = loss_fn(pred_train, y_train)\n",
    "test_error = loss_fn(pred_test, y_test)\n",
    "print(f\"train_error: {train_error:.2f}\")\n",
    "print(f\"test_error: {test_error:.2f}\")"
   ]
  },
  {
   "cell_type": "markdown",
   "metadata": {
    "id": "HdNCjH4ZjnRu"
   },
   "source": [
    "Since we only have one feature, it's easy to visually inspect the model."
   ]
  },
  {
   "cell_type": "code",
   "execution_count": 1897,
   "metadata": {
    "colab": {
     "base_uri": "https://localhost:8080/",
     "height": 298
    },
    "executionInfo": {
     "elapsed": 6279,
     "status": "ok",
     "timestamp": 1607985452534,
     "user": {
      "displayName": "Goku Mohandas",
      "photoUrl": "https://lh3.googleusercontent.com/a-/AOh14GjMIOf3R_zwS_zZx4ZyPMtQe0lOkGpPOEUEKWpM7g=s64",
      "userId": "00378334517810298963"
     },
     "user_tz": 420
    },
    "id": "h0a-iUi4i6Iy",
    "outputId": "90e9ca89-f4ca-4546-b110-a771ccc0798c"
   },
   "outputs": [
    {
     "data": {
      "image/png": "[encoded data removed]",
      "text/plain": [
       "<Figure size 1080x360 with 2 Axes>"
      ]
     },
     "metadata": {
      "needs_background": "light"
     },
     "output_type": "display_data"
    }
   ],
   "source": [
    "# Figure size\n",
    "plt.figure(figsize=(15,5))\n",
    "\n",
    "# Plot train data\n",
    "plt.subplot(1, 2, 1)\n",
    "plt.title(\"Train\")\n",
    "plt.scatter(X_train, y_train, label=\"y_train\")\n",
    "plt.plot(X_train, pred_train.detach().numpy(), color=\"red\", linewidth=1, linestyle=\"-\", label=\"model\")\n",
    "plt.legend(loc=\"lower right\")\n",
    "\n",
    "# Plot test data\n",
    "plt.subplot(1, 2, 2)\n",
    "plt.title(\"Test\")\n",
    "plt.scatter(X_test, y_test, label='y_test')\n",
    "plt.plot(X_test, pred_test.detach().numpy(), color=\"red\", linewidth=1, linestyle=\"-\", label=\"model\")\n",
    "plt.legend(loc=\"lower right\")\n",
    "\n",
    "# Show plots\n",
    "plt.show()"
   ]
  },
  {
   "cell_type": "markdown",
   "metadata": {
    "id": "e9ppP7yDmAq7"
   },
   "source": [
    "## Inference"
   ]
  },
  {
   "cell_type": "markdown",
   "metadata": {
    "id": "x1EeMpH8mD3f"
   },
   "source": [
    "After training a model, we can use it to predict on new data."
   ]
  },
  {
   "cell_type": "code",
   "execution_count": 1898,
   "metadata": {
    "id": "gyGJ3ossi6Gm"
   },
   "outputs": [],
   "source": [
    "# Feed in your own inputs\n",
    "sample_indices = [10, 15, 25]\n",
    "X_infer = np.array(sample_indices, dtype=np.float32)\n",
    "X_infer = torch.Tensor(X_scaler.transform(X_infer.reshape(-1, 1)))"
   ]
  },
  {
   "cell_type": "markdown",
   "metadata": {
    "id": "9PuOcgwlmMST"
   },
   "source": [
    "Recall that we need to unstandardize our predictions.\n",
    "\n",
    "$ \\hat{y}_{scaled} = \\frac{\\hat{y} - \\mu_{\\hat{y}}}{\\sigma_{\\hat{y}}} $\n",
    "\n",
    "$ \\hat{y} = \\hat{y}_{scaled} * \\sigma_{\\hat{y}} + \\mu_{\\hat{y}} $"
   ]
  },
  {
   "cell_type": "code",
   "execution_count": 1899,
   "metadata": {
    "colab": {
     "base_uri": "https://localhost:8080/"
    },
    "executionInfo": {
     "elapsed": 6551,
     "status": "ok",
     "timestamp": 1607985452833,
     "user": {
      "displayName": "Goku Mohandas",
      "photoUrl": "https://lh3.googleusercontent.com/a-/AOh14GjMIOf3R_zwS_zZx4ZyPMtQe0lOkGpPOEUEKWpM7g=s64",
      "userId": "00378334517810298963"
     },
     "user_tz": 420
    },
    "id": "j0uQOCzai5-G",
    "outputId": "de683318-15c2-4e2f-d898-f017e0c96172"
   },
   "outputs": [
    {
     "name": "stdout",
     "output_type": "stream",
     "text": [
      "-1.52 (actual) → 37.43 (predicted)\n",
      "14.19 (actual) → 54.79 (predicted)\n",
      "26.62 (actual) → 89.51 (predicted)\n"
     ]
    }
   ],
   "source": [
    "# Unstandardize predictions\n",
    "pred_infer = model(X_infer).detach().numpy() * np.sqrt(y_scaler.var_) + y_scaler.mean_\n",
    "for i, index in enumerate(sample_indices):\n",
    "    print (f\"{df.iloc[index]['y']:.2f} (actual) → {pred_infer[i][0]:.2f} (predicted)\")"
   ]
  },
  {
   "cell_type": "markdown",
   "metadata": {
    "id": "1TMS8GvcmWZ0"
   },
   "source": [
    "## Interpretability"
   ]
  },
  {
   "cell_type": "markdown",
   "metadata": {
    "id": "jd_eIgQBmYzm"
   },
   "source": [
    "Linear regression offers the great advantage of being highly interpretable. Each feature has a coefficient which signifies its importance/impact on the output variable y. We can interpret our coefficient as follows: by increasing X by 1 unit, we increase y by $W$ (~3.65) units. "
   ]
  },
  {
   "cell_type": "code",
   "execution_count": 1900,
   "metadata": {
    "colab": {
     "base_uri": "https://localhost:8080/"
    },
    "executionInfo": {
     "elapsed": 6538,
     "status": "ok",
     "timestamp": 1607985452834,
     "user": {
      "displayName": "Goku Mohandas",
      "photoUrl": "https://lh3.googleusercontent.com/a-/AOh14GjMIOf3R_zwS_zZx4ZyPMtQe0lOkGpPOEUEKWpM7g=s64",
      "userId": "00378334517810298963"
     },
     "user_tz": 420
    },
    "id": "YvIKQ6sVmV-A",
    "outputId": "8edc3e9c-c64f-45d2-ecb9-14bb9bd301b1"
   },
   "outputs": [
    {
     "name": "stdout",
     "output_type": "stream",
     "text": [
      "[actual] y = 3.5X + noise\n",
      "[model] y_hat = 3.5X + 2.7\n"
     ]
    }
   ],
   "source": [
    "# Unstandardize coefficients \n",
    "W = model.fc1.weight.data.numpy()[0][0]\n",
    "b = model.fc1.bias.data.numpy()[0]\n",
    "W_unscaled = W * (y_scaler.scale_/X_scaler.scale_)\n",
    "b_unscaled = b * y_scaler.scale_ + y_scaler.mean_ - np.sum(W_unscaled*X_scaler.mean_)\n",
    "print (\"[actual] y = 3.5X + noise\")\n",
    "print (f\"[model] y_hat = {W_unscaled[0]:.1f}X + {b_unscaled[0]:.1f}\") "
   ]
  },
  {
   "cell_type": "markdown",
   "metadata": {
    "id": "7-BrAEsOsj3g"
   },
   "source": [
    "# Regularization"
   ]
  },
  {
   "cell_type": "markdown",
   "metadata": {
    "id": "rCEbjZARsmBc"
   },
   "source": [
    "Regularization helps decrease overfitting. Below is `L2` regularization (ridge regression). There are many forms of regularization but they all work to reduce overfitting in our models. With `L2` regularization, we are penalizing the weights with large magnitudes by decaying them. Having certain weights with high magnitudes will lead to preferential bias with the inputs and we want the model to work with all the inputs and not just a select few. There are also other types of regularization like `L1` (lasso regression) which is useful for creating sparse models where some feature coefficients are zeroed out, or elastic which combines `L1` and `L2` penalties. "
   ]
  },
  {
   "cell_type": "markdown",
   "metadata": {
    "id": "7TczoY2lpEm5"
   },
   "source": [
    "> Regularization is not just for linear regression. You can use it to regularize any model's weights including the ones we will look at in future lessons."
   ]
  },
  {
   "cell_type": "markdown",
   "metadata": {
    "id": "QfVSaAQfspyk"
   },
   "source": [
    "$ J(\\theta) = \\frac{1}{2}\\sum_{i}(X_iW - y_i)^2 + \\frac{\\lambda}{2}W^TW$\n",
    "\n",
    "$ \\frac{\\partial{J}}{\\partial{W}}  = X (\\hat{y} - y) + \\lambda W $\n",
    "\n",
    "$W = W- \\alpha\\frac{\\partial{J}}{\\partial{W}}$\n",
    "* $\\lambda$ is the regularization coefficient\n",
    "* $\\alpha$ is the learning rate"
   ]
  },
  {
   "cell_type": "markdown",
   "metadata": {
    "id": "o2S08Iexota7"
   },
   "source": [
    "In PyTorch, we can add L2 regularization by adjusting our optimizer. The Adam optimizer has a `weight_decay` parameter which to control the L2 penalty."
   ]
  },
  {
   "cell_type": "code",
   "execution_count": 1901,
   "metadata": {
    "id": "E-KcdfC1slrn"
   },
   "outputs": [],
   "source": [
    "L2_LAMBDA = 1e-2"
   ]
  },
  {
   "cell_type": "code",
   "execution_count": 1902,
   "metadata": {
    "id": "cevnJ1JZqZed"
   },
   "outputs": [],
   "source": [
    "# Initialize model\n",
    "model = LinearRegression(input_dim=INPUT_DIM, output_dim=OUTPUT_DIM)"
   ]
  },
  {
   "cell_type": "code",
   "execution_count": 1903,
   "metadata": {
    "id": "QjvyB0_vaGHw"
   },
   "outputs": [],
   "source": [
    "# Optimizer (w/ L2 regularization)\n",
    "optimizer = Adam(model.parameters(), lr=LEARNING_RATE, weight_decay=L2_LAMBDA) "
   ]
  },
  {
   "cell_type": "code",
   "execution_count": 1904,
   "metadata": {
    "colab": {
     "base_uri": "https://localhost:8080/"
    },
    "executionInfo": {
     "elapsed": 6500,
     "status": "ok",
     "timestamp": 1607985452838,
     "user": {
      "displayName": "Goku Mohandas",
      "photoUrl": "https://lh3.googleusercontent.com/a-/AOh14GjMIOf3R_zwS_zZx4ZyPMtQe0lOkGpPOEUEKWpM7g=s64",
      "userId": "00378334517810298963"
     },
     "user_tz": 420
    },
    "id": "EP9k4W8spOPe",
    "outputId": "1738b10e-af18-432e-b682-98464ec8fa3e"
   },
   "outputs": [
    {
     "name": "stdout",
     "output_type": "stream",
     "text": [
      "Epoch: 0 | loss: 0.63\n",
      "Epoch: 20 | loss: 0.04\n",
      "Epoch: 40 | loss: 0.03\n",
      "Epoch: 60 | loss: 0.03\n",
      "Epoch: 80 | loss: 0.03\n"
     ]
    }
   ],
   "source": [
    "# Training\n",
    "for epoch in range(NUM_EPOCHS):\n",
    "    # Forward pass\n",
    "    y_pred = model(X_train)\n",
    "\n",
    "    # Loss\n",
    "    loss = loss_fn(y_pred, y_train)\n",
    "\n",
    "    # Zero all gradients\n",
    "    optimizer.zero_grad()\n",
    "\n",
    "    # Backward pass\n",
    "    loss.backward()\n",
    "\n",
    "    # Update weights\n",
    "    optimizer.step()\n",
    "\n",
    "    if epoch%20==0: \n",
    "        print (f\"Epoch: {epoch} | loss: {loss:.2f}\")"
   ]
  },
  {
   "cell_type": "code",
   "execution_count": 1905,
   "metadata": {
    "id": "khfs3lDztn8W"
   },
   "outputs": [],
   "source": [
    "# Predictions\n",
    "pred_train = model(X_train)\n",
    "pred_test = model(X_test)"
   ]
  },
  {
   "cell_type": "code",
   "execution_count": 1906,
   "metadata": {
    "colab": {
     "base_uri": "https://localhost:8080/"
    },
    "executionInfo": {
     "elapsed": 6480,
     "status": "ok",
     "timestamp": 1607985452841,
     "user": {
      "displayName": "Goku Mohandas",
      "photoUrl": "https://lh3.googleusercontent.com/a-/AOh14GjMIOf3R_zwS_zZx4ZyPMtQe0lOkGpPOEUEKWpM7g=s64",
      "userId": "00378334517810298963"
     },
     "user_tz": 420
    },
    "id": "Tr2MPdIOtoIT",
    "outputId": "bb3cf93f-6917-4512-aa99-ee1ebaad7dde"
   },
   "outputs": [
    {
     "name": "stdout",
     "output_type": "stream",
     "text": [
      "train_error: 0.03\n",
      "test_error: 0.03\n"
     ]
    }
   ],
   "source": [
    "# Performance\n",
    "train_error = loss_fn(pred_train, y_train)\n",
    "test_error = loss_fn(pred_test, y_test)\n",
    "print(f\"train_error: {train_error:.2f}\")\n",
    "print(f\"test_error: {test_error:.2f}\")"
   ]
  },
  {
   "cell_type": "markdown",
   "metadata": {
    "id": "zbT59j1otfV4"
   },
   "source": [
    "Regularization didn't make a difference in performance with this specific example because our data is generated from a perfect linear equation but for large realistic data, regularization can help our model generalize well."
   ]
  },
  {
   "cell_type": "markdown",
   "metadata": {},
   "source": [
    "based on [this repository](https://github.com/GokuMohandas/MadeWithML) and [this article](https://realpython.com/gradient-descent-algorithm-python/)"
   ]
  }
 ],
 "metadata": {
  "colab": {
   "collapsed_sections": [],
   "name": "06_Linear_Regression",
   "provenance": [
    {
     "file_id": "https://github.com/GokuMohandas/MadeWithML/blob/main/notebooks/06_Linear_Regression.ipynb",
     "timestamp": 1607982492129
    },
    {
     "file_id": "https://github.com/GokuMohandas/MadeWithML/blob/main/notebooks/06_Linear_Regression.ipynb",
     "timestamp": 1582568936460
    }
   ],
   "toc_visible": true
  },
  "kernelspec": {
   "display_name": "Python 3",
   "language": "python",
   "name": "python3"
  },
  "language_info": {
   "codemirror_mode": {
    "name": "ipython",
    "version": 3
   },
   "file_extension": ".py",
   "mimetype": "text/x-python",
   "name": "python",
   "nbconvert_exporter": "python",
   "pygments_lexer": "ipython3",
   "version": "3.8.12"
  }
 },
 "nbformat": 4,
 "nbformat_minor": 4
}
