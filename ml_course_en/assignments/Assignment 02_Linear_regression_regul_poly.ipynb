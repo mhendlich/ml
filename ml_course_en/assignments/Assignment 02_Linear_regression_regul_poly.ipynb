{
 "cells": [
  {
   "cell_type": "markdown",
   "metadata": {},
   "source": [
    "# Assignment 2. Linear regression. Polynomial features. Regularization\n",
    "## General Assignment\n",
    "\n",
    "Before performing the practical work, you need download the dataset accordingly to the option on your machine (or cloud service)\n",
    "1. Write a program that splits the original sample into a training set and a test set (training set, validation set, test set) with train_test_split method of Skikit Learn library\n",
    "2. Using the scikit-learn library (http://scikit-learn.org/stable/), train the linear regression model for the training sample (example: http://scikit-learn.org/stable/auto_examples/linear_model/plot_ols.html#sphx-glr-auto-examples-linear-model-plot-ols-py)\n",
    "3. Check the accuracy of the model from the test set with r2_score\n",
    "4. Build a model using a polynomial function (example: http://scikit-learn.org/stable/auto_examples/model_selection/plot_underfitting_overfitting.html#sphx-glr-auto-examples-model-selection-plot-underfitting-overfitting-py). Build plots with the dependence of the accuracy (r2_score) on the degree of the polynomial function for training set and test set (validation curve).\n",
    "5. Build a model using regularization (example: http://scikit-learn.org/stable/modules/linear_model.html). select one from Lasso or Ridge. On the basis of experiments, select parameters for regularization. Build plots with the dependence of the error (r2_score) on the regularization coefficient for train dataset and test dataset (validation curve).\n",
    "\n",
    "\n",
    "## Options\n",
    "Data sets are taken from the [UCI Machine Learning Repository]\n",
    "(https://archive.ics.uci.edu/ml/datasets.php)\n",
    "The option is determined by the data set, which can be downloaded from the link above:\n",
    "1. Condition Based Maintenance of Naval Propulsion Plants\n",
    "2. UJIIndoorLoc\n",
    "3. Insurance Company Benchmark (COIL 2000)\n",
    "4. KDD Cup 1998 Data\n",
    "5. [Forest Fires](https://www.kaggle.com/elikplim/predict-the-burned-area-of-forest-fires)\n",
    "6. Concrete Compressive Strength\n",
    "7. Concrete Slump Test\n",
    "8. Communities and Crime\n",
    "9. Parkinsons Telemonitoring\n",
    "10. YearPredictionMSD\n",
    "11. Relative location of CT slices on axial axis\n",
    "12. Individual household electric power consumption\n",
    "13. Energy efficiency\n",
    "14. 3D Road Network (North Jutland, Denmark)\n",
    "15. ISTANBUL STOCK EXCHANGE\n",
    "16. Buzz in social media\n",
    "17. Physicochemical Properties of Protein Tertiary Structure\n",
    "18. Gas Sensor Array Drift Dataset at Different Concentrations\n",
    "19. SkillCraft1 Master Table Dataset\n",
    "20. SML2010\n",
    "21. Bike Sharing Dataset\n",
    "22. Combined Cycle Power Plant\n",
    "23. BlogFeedback\n",
    "\n",
    "\n"
   ]
  },
  {
   "cell_type": "code",
   "execution_count": null,
   "metadata": {},
   "outputs": [],
   "source": []
  }
 ],
 "metadata": {
  "kernelspec": {
   "display_name": "Python 3",
   "language": "python",
   "name": "python3"
  },
  "language_info": {
   "codemirror_mode": {
    "name": "ipython",
    "version": 3
   },
   "file_extension": ".py",
   "mimetype": "text/x-python",
   "name": "python",
   "nbconvert_exporter": "python",
   "pygments_lexer": "ipython3",
   "version": "3.8.12"
  }
 },
 "nbformat": 4,
 "nbformat_minor": 4
}
